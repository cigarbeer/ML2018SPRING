{
 "cells": [
  {
   "cell_type": "code",
   "execution_count": 48,
   "metadata": {},
   "outputs": [],
   "source": [
    "import numpy as np\n",
    "import pandas as pd"
   ]
  },
  {
   "cell_type": "code",
   "execution_count": 49,
   "metadata": {},
   "outputs": [],
   "source": [
    "def read_training_data(file_name, encoding='big5'):\n",
    "    df = pd.read_csv(file_name, encoding=encoding, na_values=['NR'])\n",
    "    df = df.fillna(0)\n",
    "    return df"
   ]
  },
  {
   "cell_type": "code",
   "execution_count": 50,
   "metadata": {},
   "outputs": [],
   "source": [
    "def preprocess_training_data(df):\n",
    "    df = df.rename(\n",
    "        columns={\n",
    "            df.columns[0]: 'date',\n",
    "            df.columns[1]: 'location',\n",
    "            df.columns[2]: 'feature'\n",
    "    })\n",
    "        \n",
    "    df.date = pd.to_datetime(df.date)\n",
    "    \n",
    "    df = df.drop(columns=['location'])\n",
    "\n",
    "    \n",
    "    return df\n",
    "    "
   ]
  },
  {
   "cell_type": "code",
   "execution_count": 51,
   "metadata": {},
   "outputs": [],
   "source": [
    "df = read_training_data(file_name='./train.csv')"
   ]
  },
  {
   "cell_type": "code",
   "execution_count": 52,
   "metadata": {},
   "outputs": [],
   "source": [
    "df = preprocess_training_data(df)"
   ]
  },
  {
   "cell_type": "code",
   "execution_count": 53,
   "metadata": {},
   "outputs": [],
   "source": [
    "def split_df_by_month(df):\n",
    "    df.index = df.date.dt.month\n",
    "    df = df.drop(columns=['date'])\n",
    "    return list(df.groupby([df.index]))"
   ]
  },
  {
   "cell_type": "code",
   "execution_count": 54,
   "metadata": {},
   "outputs": [],
   "source": [
    "def split_df_by_feature(df):\n",
    "    df.index = df.feature\n",
    "    df = df.drop(columns=['feature'])\n",
    "    return list(df.groupby([df.index]))"
   ]
  },
  {
   "cell_type": "code",
   "execution_count": 55,
   "metadata": {},
   "outputs": [],
   "source": [
    "def flatten_df_by_month_df(df):\n",
    "    new_mdfs = []\n",
    "    mdfs = split_df_by_month(df)\n",
    "    for mdf in mdfs:\n",
    "        month = mdf[0]\n",
    "        df = mdf[1]\n",
    "        fdfs = split_df_by_feature(df)\n",
    "        new_df = pd.DataFrame(columns=df.feature.unique())\n",
    "        for fdf in fdfs:\n",
    "            feature = fdf[0]\n",
    "            df = fdf[1]\n",
    "            new_df[feature] = df.values.flatten()\n",
    "        new_df = new_df[['PM2.5', 'PM10']]\n",
    "        new_mdfs.append(new_df)\n",
    "        \n",
    "    return new_mdfs\n",
    "\n",
    "mdfs = flatten_df_by_month_df(df)"
   ]
  },
  {
   "cell_type": "code",
   "execution_count": 56,
   "metadata": {},
   "outputs": [],
   "source": [
    "def chunk_training_examples(mdfs, chunk_size):\n",
    "    X = []\n",
    "    y = []\n",
    "    for mdf in mdfs:\n",
    "        nrow, ncol = mdf.shape\n",
    "        for i in range(nrow-chunk_size):\n",
    "            X.append(mdf.iloc[i:i+chunk_size].values.flatten())\n",
    "            y.append(mdf.loc[i+chunk_size, 'PM2.5'])\n",
    "    \n",
    "    X = np.array(X)\n",
    "    y = np.array(y).reshape((-1, 1))\n",
    "    return X, y\n",
    "\n",
    "X, y = chunk_training_examples(mdfs, chunk_size=9)"
   ]
  },
  {
   "cell_type": "code",
   "execution_count": 57,
   "metadata": {},
   "outputs": [],
   "source": [
    "def read_testing_data(file_name):\n",
    "    df = pd.read_csv(file_name, header=None, na_values=['NR'])\n",
    "    df = df.rename(columns={0: 'id', 1: 'feature'})\n",
    "    df = df.fillna(0)\n",
    "    return df\n",
    "tdf = read_testing_data('./test.csv')"
   ]
  },
  {
   "cell_type": "code",
   "execution_count": 58,
   "metadata": {},
   "outputs": [],
   "source": [
    "def split_df_by_id(df):\n",
    "    df.index = df.id\n",
    "    df = df.drop(columns=['id'])\n",
    "    return list(df.groupby(df.index))"
   ]
  },
  {
   "cell_type": "code",
   "execution_count": 59,
   "metadata": {},
   "outputs": [],
   "source": [
    "def flatten_df_by_id(df):\n",
    "    new_iddfs = []\n",
    "    iddfs = split_df_by_id(df)\n",
    "    for iddf in iddfs:\n",
    "        i = iddf[0]\n",
    "        df = iddf[1]\n",
    "        fdfs = split_df_by_feature(df)\n",
    "        new_df = pd.DataFrame(columns=df.feature.unique())\n",
    "        for fdf in fdfs:\n",
    "            feature = fdf[0]\n",
    "            df = fdf[1]\n",
    "            new_df[feature] = df.values.flatten()\n",
    "        new_df = new_df[['PM2.5', 'PM10']]\n",
    "        new_iddfs.append(new_df)\n",
    "    return new_iddfs\n",
    "\n",
    "iddfs = flatten_df_by_id(tdf)"
   ]
  },
  {
   "cell_type": "code",
   "execution_count": 60,
   "metadata": {},
   "outputs": [],
   "source": [
    "def normalize_feature(X):\n",
    "    mu = np.mean(X, axis=0)\n",
    "    sigma = np.std(X, axis=0)\n",
    "    X_normalized = (X - mu) / sigma\n",
    "    return X_normalized, mu, sigma \n",
    "\n",
    "X_normalized, mu, sigma = normalize_feature(X)"
   ]
  },
  {
   "cell_type": "code",
   "execution_count": 61,
   "metadata": {},
   "outputs": [],
   "source": [
    "m, n = X_normalized.shape\n",
    "\n",
    "theta = np.zeros((n+1, 1))\n",
    "theta.shape\n",
    "X_normalized = np.insert(X_normalized, obj=0, values=1, axis=1)\n"
   ]
  },
  {
   "cell_type": "code",
   "execution_count": 62,
   "metadata": {},
   "outputs": [
    {
     "data": {
      "text/plain": [
       "(5652, 19)"
      ]
     },
     "execution_count": 62,
     "metadata": {},
     "output_type": "execute_result"
    }
   ],
   "source": [
    "X_normalized.shape"
   ]
  },
  {
   "cell_type": "code",
   "execution_count": 63,
   "metadata": {},
   "outputs": [],
   "source": [
    "def compute_cost(theta, X, y):\n",
    "    h_theta = np.dot(X, theta)\n",
    "    square_error = (h_theta - y)**2\n",
    "    J = 1 / (2 * m) * np.sum(square_error)\n",
    "    return J\n",
    "\n",
    "# compute_cost(np.zeros((n+1, 1)), )"
   ]
  },
  {
   "cell_type": "code",
   "execution_count": 66,
   "metadata": {
    "scrolled": true
   },
   "outputs": [],
   "source": [
    "\n",
    "eta = 0.001\n",
    "number_of_iterations = 20000\n",
    "def gradient_descent(theta):\n",
    "    for i in range(number_of_iterations):\n",
    "        h_theta = np.dot(X_normalized, theta)\n",
    "        \n",
    "        theta = theta - (eta / m) * np.dot(X_normalized.T, h_theta-y)\n",
    "#         print(i, theta)\n",
    "    \n",
    "    return theta\n",
    "    "
   ]
  },
  {
   "cell_type": "code",
   "execution_count": 67,
   "metadata": {},
   "outputs": [],
   "source": [
    "theta = gradient_descent(theta)"
   ]
  },
  {
   "cell_type": "code",
   "execution_count": 38,
   "metadata": {},
   "outputs": [],
   "source": [
    "def predict(instance):\n",
    "    normalized_instance = (instance - mu) / sigma\n",
    "    normalized_instance = np.insert(normalized_instance.reshape((1, -1)), obj=0, values=1, axis=1)\n",
    "    result = np.dot(normalized_instance, eq_theta)\n",
    "    \n",
    "    return result"
   ]
  },
  {
   "cell_type": "code",
   "execution_count": 39,
   "metadata": {},
   "outputs": [],
   "source": [
    "towrite = []\n",
    "for iddf in iddfs:\n",
    "    towrite.append(predict(iddf.values.flatten()))"
   ]
  },
  {
   "cell_type": "code",
   "execution_count": 40,
   "metadata": {},
   "outputs": [],
   "source": [
    "ans = np.array(towrite)"
   ]
  },
  {
   "cell_type": "code",
   "execution_count": 41,
   "metadata": {},
   "outputs": [],
   "source": [
    "ans = ans.flatten()"
   ]
  },
  {
   "cell_type": "code",
   "execution_count": 42,
   "metadata": {},
   "outputs": [],
   "source": [
    "ansdf = pd.DataFrame(columns=['id', 'value'])"
   ]
  },
  {
   "cell_type": "code",
   "execution_count": 43,
   "metadata": {},
   "outputs": [],
   "source": [
    "ansdf.id = tdf.id.unique()\n",
    "ansdf.value = ans"
   ]
  },
  {
   "cell_type": "code",
   "execution_count": 46,
   "metadata": {},
   "outputs": [],
   "source": [
    "ansdf.to_csv('qwerty.csv', index=False)"
   ]
  },
  {
   "cell_type": "code",
   "execution_count": null,
   "metadata": {},
   "outputs": [],
   "source": []
  },
  {
   "cell_type": "code",
   "execution_count": null,
   "metadata": {},
   "outputs": [],
   "source": []
  },
  {
   "cell_type": "code",
   "execution_count": 34,
   "metadata": {},
   "outputs": [],
   "source": [
    "def normal_eqn(X, y):\n",
    "    #NORMALEQN Computes the closed-form solution to linear regression \n",
    "    #   NORMALEQN(X,y) computes the closed-form solution to linear \n",
    "    #   regression using the normal equations.\n",
    "\n",
    "    theta = np.zeros(X.shape[1])\n",
    "\n",
    "    # ====================== YOUR CODE HERE ======================\n",
    "    # Instructions: Complete the code to compute the closed form solution\n",
    "    #               to linear regression and put the result in theta.\n",
    "    #\n",
    "\n",
    "\n",
    "    theta = np.dot(np.dot(np.linalg.pinv(np.dot(X.T, X)), X.T), y)\n",
    "    # ============================================================\n",
    "    return theta"
   ]
  },
  {
   "cell_type": "code",
   "execution_count": 35,
   "metadata": {},
   "outputs": [],
   "source": [
    "eq_theta = normal_eqn(X_normalized, y)"
   ]
  },
  {
   "cell_type": "code",
   "execution_count": null,
   "metadata": {},
   "outputs": [],
   "source": []
  }
 ],
 "metadata": {
  "kernelspec": {
   "display_name": "Python 3",
   "language": "python",
   "name": "python3"
  },
  "language_info": {
   "codemirror_mode": {
    "name": "ipython",
    "version": 3
   },
   "file_extension": ".py",
   "mimetype": "text/x-python",
   "name": "python",
   "nbconvert_exporter": "python",
   "pygments_lexer": "ipython3",
   "version": "3.6.4"
  }
 },
 "nbformat": 4,
 "nbformat_minor": 2
}
