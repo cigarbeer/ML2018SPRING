{
 "cells": [
  {
   "cell_type": "code",
   "execution_count": 1,
   "metadata": {},
   "outputs": [],
   "source": [
    "import numpy as np\n",
    "import pandas as pd\n",
    "import matplotlib.pyplot as plt"
   ]
  },
  {
   "cell_type": "code",
   "execution_count": 2,
   "metadata": {},
   "outputs": [],
   "source": [
    "class DataManager:\n",
    "    def __init__(self):\n",
    "        self.feature = None\n",
    "        self.rdf = None # raw df\n",
    "        self.data = None # dictionary of processed dfs data\n",
    "        self.X = None\n",
    "        self.y = None\n",
    "        self.tdata = None\n",
    "        \n",
    "    def read_training_data(self, file_name):\n",
    "        df = pd.read_csv(file_name, encoding='big5', na_values=['NR'])\n",
    "        df = df.fillna(0.0)\n",
    "        df = df.rename(columns={\n",
    "            df.columns[0]: 'date',\n",
    "            df.columns[1]: 'location',\n",
    "            df.columns[2]: 'feature'\n",
    "        })\n",
    "        df.date = pd.to_datetime(df.date)\n",
    "        df = df.drop(columns=['location'])\n",
    "        self.feature = sorted(df.feature.unique())\n",
    "        self.rdf = df\n",
    "        self.rdf_to_data()\n",
    "        return \n",
    "    \n",
    "    def preprocess_mdfs(self, mdfs):\n",
    "        for m, df in mdfs.items():\n",
    "#             nrows, ncols = df. shape\n",
    "            cols = df.columns\n",
    "#             mask = np.zeros((nrows, 1), dtype=bool)\n",
    "            for col in cols:\n",
    "                df = df[df[col] > 0.0]\n",
    "#                 print(df)\n",
    "            \n",
    "            mdfs[m] = df\n",
    "            \n",
    "        return mdfs\n",
    "    \n",
    "    def rdf_to_data(self):\n",
    "        rdf = self.rdf\n",
    "        data = {month: {feature: df.drop(columns=['date', 'feature']).values.flatten() for feature, df in mdf.groupby(mdf.feature)} for month, mdf in rdf.groupby(rdf.date.dt.month)}\n",
    "        self.data = data\n",
    "        return \n",
    "    \n",
    "    def select_feature_to_mdfs(self, feature_list=None):\n",
    "        if feature_list is None:\n",
    "            feature_list = self.feature\n",
    "#         mdfs = {month: pd.DataFrame(columns=feature_list) for month in range(1, 13)}\n",
    "        mdfs = {month: pd.DataFrame(columns=sorted(feature_list)) for month in range(1, 13)}\n",
    "\n",
    "        for month, fdata in self.data.items():\n",
    "            for feature in feature_list:\n",
    "                mdfs[month][feature] = fdata[feature]\n",
    "            \n",
    "        return mdfs\n",
    "    \n",
    "    \n",
    "    def chunk_examples(self, mdfs, chunk_size):\n",
    "        X = []\n",
    "        y = []\n",
    "        for month, mdf in mdfs.items():\n",
    "            nrows, ncols = mdf.shape\n",
    "\n",
    "            for i in range(nrows-chunk_size):\n",
    "#                 X.append(mdf.iloc[i:i+chunk_size].T.values.flatten())\n",
    "#                 print(mdf)\n",
    "                X.append(mdf.iloc[i:i+chunk_size].values.flatten())\n",
    "                y.append(mdf['PM2.5'].iloc[i+chunk_size])\n",
    "#                 print(mdf.iloc[i:i+chunk_size], mdf['PM2.5'].iloc[i+chunk_size])\n",
    "                \n",
    "        self.X = np.array(X)\n",
    "        self.y = np.array(y).reshape((-1, 1))\n",
    "        return self.X, self.y\n",
    "    \n",
    "    def get_shuffle_index(self):\n",
    "        m, n = self.X.shape\n",
    "        idx = np.random.permutation(np.arange(m))\n",
    "        return idx\n",
    "    \n",
    "    def read_testing_data(self, file_name):\n",
    "        df = pd.read_csv(file_name, header=None, na_values=['NR'])\n",
    "        df = df.rename(columns={0: 'id', 1: 'feature'})\n",
    "        df = df.fillna(0.0)\n",
    "        self.tdata = df\n",
    "        return\n",
    "    \n",
    "    def select_testing_feature(self, feature_list=None):\n",
    "        if feature_list is None:\n",
    "            feature_list = self.feature\n",
    "            \n",
    "        iddfs = {i: df for i, df in self.tdata.groupby(self.tdata.id)}\n",
    "        \n",
    "        for i, df in iddfs.items():\n",
    "            columns = df.feature\n",
    "            df = df.drop(columns=['id', 'feature']).T\n",
    "            df.columns = columns\n",
    "            df = df[sorted(feature_list)]\n",
    "            iddfs[i] = df\n",
    "        return iddfs\n"
   ]
  },
  {
   "cell_type": "code",
   "execution_count": 3,
   "metadata": {},
   "outputs": [],
   "source": [
    "def normalize_data(X):\n",
    "    mu = np.mean(X, axis=0)\n",
    "    sigma = np.std(X, axis=0)\n",
    "    X_n = (X - mu) / sigma\n",
    "    return X_n, mu, sigma"
   ]
  },
  {
   "cell_type": "code",
   "execution_count": 4,
   "metadata": {},
   "outputs": [],
   "source": [
    "def norm_eq(X, y):\n",
    "    theta = np.dot(np.dot(np.linalg.pinv(np.dot(X.T, X)), X.T), y)\n",
    "    return theta"
   ]
  },
  {
   "cell_type": "code",
   "execution_count": 5,
   "metadata": {},
   "outputs": [],
   "source": [
    "def predict(theta, instance):\n",
    "    h_theta = np.dot(instance, theta)\n",
    "    return h_theta"
   ]
  },
  {
   "cell_type": "code",
   "execution_count": 6,
   "metadata": {},
   "outputs": [],
   "source": [
    "def h(X, theta):\n",
    "    return np.dot(X, theta)"
   ]
  },
  {
   "cell_type": "code",
   "execution_count": 7,
   "metadata": {},
   "outputs": [],
   "source": [
    "def J(theta, h, X, y):\n",
    "    m, n = X.shape\n",
    "    square_error = np.sum((h(X, theta) - y)**2)\n",
    "    return (1 / 2) * (1 / m) * square_error"
   ]
  },
  {
   "cell_type": "code",
   "execution_count": 8,
   "metadata": {},
   "outputs": [],
   "source": [
    "def gradient_descent(theta, h, X, y, eta, n_iters):\n",
    "    m, n = X.shape\n",
    "    theta_record = np.zeros((n_iters, *theta.shape))\n",
    "    loss_record = np.zeros((n_iters, 1))\n",
    "    \n",
    "    theta_record[0] = theta\n",
    "    loss_record[0] = J(theta, h, X, y)\n",
    "    grad_square_sum = np.zeros(theta.shape)\n",
    "    for i in range(1, n_iters):\n",
    "        grad = (1 / m) * np.dot(X.T, (h(X, theta) - y))\n",
    "        \n",
    "        grad_square_sum = grad**2 + grad_square_sum\n",
    "        \n",
    "        theta = theta - eta * grad / np.sqrt(grad_square_sum)\n",
    "        theta_record[i] = theta\n",
    "        loss_record[i] = J(theta, h, X, y)\n",
    "        \n",
    "    return theta, theta_record, loss_record"
   ]
  },
  {
   "cell_type": "code",
   "execution_count": 9,
   "metadata": {},
   "outputs": [],
   "source": [
    "def initialize_theta(X):\n",
    "    m, n = X.shape\n",
    "    \n",
    "    return np.random.normal(loc=0, scale=1, size=(n, 1))"
   ]
  },
  {
   "cell_type": "code",
   "execution_count": 10,
   "metadata": {},
   "outputs": [],
   "source": [
    "def find_example_error(theta, h, J, X, y):\n",
    "    error_list = []\n",
    "\n",
    "    for i, example in enumerate(zip(X, y)):\n",
    "        xx, yy = example\n",
    "        xx = xx.reshape((1, -1))\n",
    "        yy = yy.reshape((1, 1))\n",
    "        error_list.append((J(theta, h, xx, yy), i, xx, yy))\n",
    "\n",
    "    return error_list"
   ]
  },
  {
   "cell_type": "code",
   "execution_count": 11,
   "metadata": {},
   "outputs": [],
   "source": [
    "def validate_data(rate, h, J, X, y):\n",
    "    print(X.shape)\n",
    "    norm_theta = norm_eq(X, y)\n",
    "    error_list = sorted(find_example_error(norm_theta, h, J, X, y), reverse=True)\n",
    "    to_drop = error_list[0:int(rate*len(error_list))]\n",
    "    to_drop_idx = [idx for err, idx, xx, yy in to_drop]\n",
    "    print(error_list[0:3], error_list[100:103])\n",
    "    return np.delete(X, to_drop_idx, axis=0), np.delete(y, to_drop_idx, axis=0)"
   ]
  },
  {
   "cell_type": "code",
   "execution_count": 12,
   "metadata": {},
   "outputs": [],
   "source": [
    "def remove_non_positive_data(X, y):\n",
    "    Xmask = np.all(X > 0, axis=1)\n",
    "    ymask = np.all(y > 0, axis=1)\n",
    "    mask = Xmask & ymask\n",
    "    return X[mask], y[mask]"
   ]
  },
  {
   "cell_type": "code",
   "execution_count": 13,
   "metadata": {},
   "outputs": [],
   "source": [
    "def remove_strange_data(X, y):\n",
    "    Xmask = np.all(X < 300, axis=1)\n",
    "    ymask = np.all(y < 300, axis=1)\n",
    "    mask = Xmask & ymask\n",
    "    return X[mask], y[mask]"
   ]
  },
  {
   "cell_type": "code",
   "execution_count": 14,
   "metadata": {},
   "outputs": [],
   "source": [
    "dm = DataManager()"
   ]
  },
  {
   "cell_type": "code",
   "execution_count": 15,
   "metadata": {},
   "outputs": [],
   "source": [
    "dm.read_training_data('./train.csv')"
   ]
  },
  {
   "cell_type": "code",
   "execution_count": 16,
   "metadata": {},
   "outputs": [],
   "source": [
    "# mdfs = dm.select_feature_to_mdfs(['PM2.5', 'PM10'])\n",
    "mdfs = dm.select_feature_to_mdfs(['PM2.5'])"
   ]
  },
  {
   "cell_type": "code",
   "execution_count": 17,
   "metadata": {},
   "outputs": [
    {
     "data": {
      "text/plain": [
       "(480, 1)"
      ]
     },
     "execution_count": 17,
     "metadata": {},
     "output_type": "execute_result"
    }
   ],
   "source": [
    "# mdfs = dm.preprocess_mdfs(mdfs)\n",
    "mdfs[1].shape"
   ]
  },
  {
   "cell_type": "code",
   "execution_count": 18,
   "metadata": {},
   "outputs": [],
   "source": [
    "X, y = dm.chunk_examples(mdfs, chunk_size=4)"
   ]
  },
  {
   "cell_type": "code",
   "execution_count": 19,
   "metadata": {},
   "outputs": [
    {
     "data": {
      "text/plain": [
       "(5392, 4)"
      ]
     },
     "execution_count": 19,
     "metadata": {},
     "output_type": "execute_result"
    }
   ],
   "source": [
    "X, y = remove_non_positive_data(X, y)\n",
    "X.shape"
   ]
  },
  {
   "cell_type": "code",
   "execution_count": 20,
   "metadata": {},
   "outputs": [
    {
     "data": {
      "text/plain": [
       "(5385, 4)"
      ]
     },
     "execution_count": 20,
     "metadata": {},
     "output_type": "execute_result"
    }
   ],
   "source": [
    "X, y = remove_strange_data(X, y)\n",
    "X.shape"
   ]
  },
  {
   "cell_type": "code",
   "execution_count": 21,
   "metadata": {},
   "outputs": [
    {
     "data": {
      "text/plain": [
       "<matplotlib.collections.PathCollection at 0x7f7edefdbdd8>"
      ]
     },
     "execution_count": 21,
     "metadata": {},
     "output_type": "execute_result"
    },
    {
     "data": {
      "image/png": "[encoded data removed]",
      "text/plain": [
       "<matplotlib.figure.Figure at 0x7f7edfd5df28>"
      ]
     },
     "metadata": {},
     "output_type": "display_data"
    }
   ],
   "source": [
    "errlist = find_example_error(norm_eq(X, y), h, J, X, y)\n",
    "fig, ax = plt.subplots()\n",
    "ax.scatter(np.arange(len(errlist)), [j for j,_,_,_ in errlist])"
   ]
  },
  {
   "cell_type": "code",
   "execution_count": 22,
   "metadata": {},
   "outputs": [
    {
     "name": "stdout",
     "output_type": "stream",
     "text": [
      "(2067.8524420132107, 1167, array([[ 61.,  66.,  66.,  69.]]), array([[ 131.]]))\n",
      "(2721.5124299027439, 2787, array([[ 41.,  23.,  23.,  30.]]), array([[ 111.]]))\n",
      "(1405.4274826994535, 2790, array([[  30.,  111.,  115.,  118.]]), array([[ 35.]]))\n",
      "(523.01148952326184, 2793, array([[ 118.,   35.,   32.,   33.]]), array([[ 30.]]))\n",
      "(857.03322075002848, 3489, array([[ 94.,  42.,  48.,  44.]]), array([[ 21.]]))\n",
      "(554.07124572212967, 3838, array([[ 41.,  62.,  64.,  54.]]), array([[ 11.]]))\n"
     ]
    }
   ],
   "source": [
    "for i in errlist:\n",
    "    if i[0] > 500:\n",
    "        print(i)"
   ]
  },
  {
   "cell_type": "code",
   "execution_count": 23,
   "metadata": {},
   "outputs": [],
   "source": [
    "X_n, mu, sigma = normalize_data(X)\n",
    "X_n = np.insert(X_n, obj=0, values=1, axis=1)"
   ]
  },
  {
   "cell_type": "code",
   "execution_count": 24,
   "metadata": {},
   "outputs": [
    {
     "data": {
      "text/plain": [
       "5.385"
      ]
     },
     "execution_count": 24,
     "metadata": {},
     "output_type": "execute_result"
    }
   ],
   "source": [
    "X[np.any(X <=0, axis=1)][:3]\n",
    "X_n.shape[0] * 0.001"
   ]
  },
  {
   "cell_type": "code",
   "execution_count": 25,
   "metadata": {
    "scrolled": false
   },
   "outputs": [
    {
     "name": "stdout",
     "output_type": "stream",
     "text": [
      "(5385, 5)\n",
      "[(2720.9801000865587, 2787, array([[ 1.        ,  0.70453258, -0.26919354, -0.26818548,  0.11371528]]), array([[ 111.]])), (2123.9686933720614, 1167, array([[ 1.        ,  1.7876707 ,  2.06337052,  2.06463526,  2.23297297]]), array([[ 131.]])), (1360.1073751742126, 2790, array([[ 1.        ,  0.10880661,  4.50442592,  4.72296587,  4.89563006]]), array([[ 35.]]))] [(94.762403560492984, 1299, array([[ 1.        ,  1.02947401,  1.19543971,  2.01038362,  2.12429309]]), array([[ 53.]])), (91.795948810799686, 816, array([[ 1.        ,  0.10880661,  0.38175457, -0.10543054,  0.11371528]]), array([[ 41.]])), (91.778427700259343, 5348, array([[ 1.        ,  0.86700329,  1.84638781,  2.33589349,  2.50467267]]), array([[ 54.]]))]\n"
     ]
    },
    {
     "data": {
      "text/plain": [
       "(5380, 5)"
      ]
     },
     "execution_count": 25,
     "metadata": {},
     "output_type": "execute_result"
    }
   ],
   "source": [
    "X_n, y = validate_data(0.001, h, J, X_n, y)\n",
    "# X_n, y = validate_data(0.001, h, J, X_n, y)\n",
    "X_n.shape"
   ]
  },
  {
   "cell_type": "code",
   "execution_count": 26,
   "metadata": {},
   "outputs": [],
   "source": [
    "norm_theta = norm_eq(X_n, y)"
   ]
  },
  {
   "cell_type": "code",
   "execution_count": 27,
   "metadata": {},
   "outputs": [],
   "source": [
    "dm.read_testing_data('./test.csv')"
   ]
  },
  {
   "cell_type": "code",
   "execution_count": 29,
   "metadata": {},
   "outputs": [
    {
     "data": {
      "text/html": [
       "<div>\n",
       "<style scoped>\n",
       "    .dataframe tbody tr th:only-of-type {\n",
       "        vertical-align: middle;\n",
       "    }\n",
       "\n",
       "    .dataframe tbody tr th {\n",
       "        vertical-align: top;\n",
       "    }\n",
       "\n",
       "    .dataframe thead th {\n",
       "        text-align: right;\n",
       "    }\n",
       "</style>\n",
       "<table border=\"1\" class=\"dataframe\">\n",
       "  <thead>\n",
       "    <tr style=\"text-align: right;\">\n",
       "      <th>feature</th>\n",
       "      <th>PM2.5</th>\n",
       "    </tr>\n",
       "  </thead>\n",
       "  <tbody>\n",
       "    <tr>\n",
       "      <th>2</th>\n",
       "      <td>73.0</td>\n",
       "    </tr>\n",
       "    <tr>\n",
       "      <th>3</th>\n",
       "      <td>88.0</td>\n",
       "    </tr>\n",
       "    <tr>\n",
       "      <th>4</th>\n",
       "      <td>92.0</td>\n",
       "    </tr>\n",
       "    <tr>\n",
       "      <th>5</th>\n",
       "      <td>89.0</td>\n",
       "    </tr>\n",
       "    <tr>\n",
       "      <th>6</th>\n",
       "      <td>86.0</td>\n",
       "    </tr>\n",
       "    <tr>\n",
       "      <th>7</th>\n",
       "      <td>80.0</td>\n",
       "    </tr>\n",
       "    <tr>\n",
       "      <th>8</th>\n",
       "      <td>93.0</td>\n",
       "    </tr>\n",
       "    <tr>\n",
       "      <th>9</th>\n",
       "      <td>91.0</td>\n",
       "    </tr>\n",
       "    <tr>\n",
       "      <th>10</th>\n",
       "      <td>95.0</td>\n",
       "    </tr>\n",
       "  </tbody>\n",
       "</table>\n",
       "</div>"
      ],
      "text/plain": [
       "feature  PM2.5\n",
       "2         73.0\n",
       "3         88.0\n",
       "4         92.0\n",
       "5         89.0\n",
       "6         86.0\n",
       "7         80.0\n",
       "8         93.0\n",
       "9         91.0\n",
       "10        95.0"
      ]
     },
     "execution_count": 29,
     "metadata": {},
     "output_type": "execute_result"
    }
   ],
   "source": [
    "# tX = dm.select_testing_feature(['PM2.5', 'PM10'])\n",
    "tX = dm.select_testing_feature(['PM2.5'])\n",
    "tX['id_87']#.iloc[-5:, :]\n"
   ]
  },
  {
   "cell_type": "code",
   "execution_count": 30,
   "metadata": {},
   "outputs": [
    {
     "name": "stdout",
     "output_type": "stream",
     "text": [
      "(5, 1)\n"
     ]
    },
    {
     "data": {
      "text/plain": [
       "array([ 13.94847018])"
      ]
     },
     "execution_count": 30,
     "metadata": {},
     "output_type": "execute_result"
    }
   ],
   "source": [
    "init_theta = initialize_theta(X_n)\n",
    "print(init_theta.shape)\n",
    "theta, theta_record, loss_record = gradient_descent(init_theta, h, X_n, y, eta=0.1, n_iters=200000)\n",
    "loss_record[-1]"
   ]
  },
  {
   "cell_type": "code",
   "execution_count": 31,
   "metadata": {},
   "outputs": [],
   "source": [
    "results = []\n",
    "for i, tdf in tX.items():\n",
    "    tdf = tdf.iloc[-4:, :]\n",
    "    instance_n = (tdf.values.flatten() - mu) / sigma\n",
    "#     instance_n = (tdf.T.values.flatten() - mu) / sigma\n",
    "\n",
    "#     print(tdf.T.values.flatten())\n",
    "    results.append((i, predict(norm_theta, np.insert(instance_n.reshape((1, -1)), obj=0, values=1, axis=1))[0, 0]))\n",
    "results = np.array(results)"
   ]
  },
  {
   "cell_type": "code",
   "execution_count": 32,
   "metadata": {},
   "outputs": [
    {
     "data": {
      "text/plain": [
       "array([[ 27.87146785],\n",
       "       [  5.77890489],\n",
       "       [ -8.79687489],\n",
       "       [  0.37582668],\n",
       "       [ 20.16081798]])"
      ]
     },
     "execution_count": 32,
     "metadata": {},
     "output_type": "execute_result"
    }
   ],
   "source": [
    "theta"
   ]
  },
  {
   "cell_type": "code",
   "execution_count": 33,
   "metadata": {},
   "outputs": [
    {
     "data": {
      "text/plain": [
       "array([[ 27.87193825],\n",
       "       [  5.94834234],\n",
       "       [ -8.81978775],\n",
       "       [ -0.17870635],\n",
       "       [ 20.59464364]])"
      ]
     },
     "execution_count": 33,
     "metadata": {},
     "output_type": "execute_result"
    }
   ],
   "source": [
    "norm_theta"
   ]
  },
  {
   "cell_type": "code",
   "execution_count": 34,
   "metadata": {},
   "outputs": [
    {
     "data": {
      "text/plain": [
       "[<matplotlib.lines.Line2D at 0x7f7ed7236c50>]"
      ]
     },
     "execution_count": 34,
     "metadata": {},
     "output_type": "execute_result"
    },
    {
     "data": {
      "image/png": "[encoded data removed]",
      "text/plain": [
       "<matplotlib.figure.Figure at 0x7f7edf0444e0>"
      ]
     },
     "metadata": {},
     "output_type": "display_data"
    }
   ],
   "source": [
    "fig, ax = plt.subplots()\n",
    "ax.plot(np.arange(loss_record.size), loss_record)\n",
    "# len(loss_record)"
   ]
  },
  {
   "cell_type": "code",
   "execution_count": 35,
   "metadata": {},
   "outputs": [
    {
     "data": {
      "text/plain": [
       "13.948470182556045"
      ]
     },
     "execution_count": 35,
     "metadata": {},
     "output_type": "execute_result"
    }
   ],
   "source": [
    "J(theta, h, X_n, y)"
   ]
  },
  {
   "cell_type": "code",
   "execution_count": 36,
   "metadata": {},
   "outputs": [
    {
     "data": {
      "text/plain": [
       "13.937634270098822"
      ]
     },
     "execution_count": 36,
     "metadata": {},
     "output_type": "execute_result"
    }
   ],
   "source": [
    "J(norm_theta, h, X_n, y)"
   ]
  },
  {
   "cell_type": "code",
   "execution_count": 37,
   "metadata": {},
   "outputs": [],
   "source": [
    "pd.DataFrame(results, columns=['id', 'value']).to_csv('qq.csv', index=False)"
   ]
  },
  {
   "cell_type": "code",
   "execution_count": 38,
   "metadata": {},
   "outputs": [
    {
     "data": {
      "text/html": [
       "<div>\n",
       "<style scoped>\n",
       "    .dataframe tbody tr th:only-of-type {\n",
       "        vertical-align: middle;\n",
       "    }\n",
       "\n",
       "    .dataframe tbody tr th {\n",
       "        vertical-align: top;\n",
       "    }\n",
       "\n",
       "    .dataframe thead th {\n",
       "        text-align: right;\n",
       "    }\n",
       "</style>\n",
       "<table border=\"1\" class=\"dataframe\">\n",
       "  <thead>\n",
       "    <tr style=\"text-align: right;\">\n",
       "      <th></th>\n",
       "      <th>id</th>\n",
       "      <th>value</th>\n",
       "    </tr>\n",
       "  </thead>\n",
       "  <tbody>\n",
       "    <tr>\n",
       "      <th>0</th>\n",
       "      <td>id_0</td>\n",
       "      <td>39.172921412</td>\n",
       "    </tr>\n",
       "    <tr>\n",
       "      <th>1</th>\n",
       "      <td>id_1</td>\n",
       "      <td>13.8352702002</td>\n",
       "    </tr>\n",
       "    <tr>\n",
       "      <th>2</th>\n",
       "      <td>id_10</td>\n",
       "      <td>24.7370350586</td>\n",
       "    </tr>\n",
       "    <tr>\n",
       "      <th>3</th>\n",
       "      <td>id_100</td>\n",
       "      <td>21.7670386954</td>\n",
       "    </tr>\n",
       "    <tr>\n",
       "      <th>4</th>\n",
       "      <td>id_101</td>\n",
       "      <td>47.0883735583</td>\n",
       "    </tr>\n",
       "    <tr>\n",
       "      <th>5</th>\n",
       "      <td>id_102</td>\n",
       "      <td>31.4087123148</td>\n",
       "    </tr>\n",
       "    <tr>\n",
       "      <th>6</th>\n",
       "      <td>id_103</td>\n",
       "      <td>33.0513219307</td>\n",
       "    </tr>\n",
       "    <tr>\n",
       "      <th>7</th>\n",
       "      <td>id_104</td>\n",
       "      <td>34.1614102709</td>\n",
       "    </tr>\n",
       "    <tr>\n",
       "      <th>8</th>\n",
       "      <td>id_105</td>\n",
       "      <td>30.481528267</td>\n",
       "    </tr>\n",
       "    <tr>\n",
       "      <th>9</th>\n",
       "      <td>id_106</td>\n",
       "      <td>16.9212358977</td>\n",
       "    </tr>\n",
       "    <tr>\n",
       "      <th>10</th>\n",
       "      <td>id_107</td>\n",
       "      <td>38.0928194298</td>\n",
       "    </tr>\n",
       "    <tr>\n",
       "      <th>11</th>\n",
       "      <td>id_108</td>\n",
       "      <td>9.03407260423</td>\n",
       "    </tr>\n",
       "    <tr>\n",
       "      <th>12</th>\n",
       "      <td>id_109</td>\n",
       "      <td>71.7844389851</td>\n",
       "    </tr>\n",
       "    <tr>\n",
       "      <th>13</th>\n",
       "      <td>id_11</td>\n",
       "      <td>41.587727611</td>\n",
       "    </tr>\n",
       "    <tr>\n",
       "      <th>14</th>\n",
       "      <td>id_110</td>\n",
       "      <td>32.2556975154</td>\n",
       "    </tr>\n",
       "    <tr>\n",
       "      <th>15</th>\n",
       "      <td>id_111</td>\n",
       "      <td>68.9354306171</td>\n",
       "    </tr>\n",
       "    <tr>\n",
       "      <th>16</th>\n",
       "      <td>id_112</td>\n",
       "      <td>20.8678012921</td>\n",
       "    </tr>\n",
       "    <tr>\n",
       "      <th>17</th>\n",
       "      <td>id_113</td>\n",
       "      <td>24.7533418067</td>\n",
       "    </tr>\n",
       "    <tr>\n",
       "      <th>18</th>\n",
       "      <td>id_114</td>\n",
       "      <td>24.4558755712</td>\n",
       "    </tr>\n",
       "    <tr>\n",
       "      <th>19</th>\n",
       "      <td>id_115</td>\n",
       "      <td>35.6273337861</td>\n",
       "    </tr>\n",
       "    <tr>\n",
       "      <th>20</th>\n",
       "      <td>id_116</td>\n",
       "      <td>36.6382575144</td>\n",
       "    </tr>\n",
       "    <tr>\n",
       "      <th>21</th>\n",
       "      <td>id_117</td>\n",
       "      <td>25.0140853021</td>\n",
       "    </tr>\n",
       "    <tr>\n",
       "      <th>22</th>\n",
       "      <td>id_118</td>\n",
       "      <td>28.1382301493</td>\n",
       "    </tr>\n",
       "    <tr>\n",
       "      <th>23</th>\n",
       "      <td>id_119</td>\n",
       "      <td>44.4752477362</td>\n",
       "    </tr>\n",
       "    <tr>\n",
       "      <th>24</th>\n",
       "      <td>id_12</td>\n",
       "      <td>42.1013321402</td>\n",
       "    </tr>\n",
       "    <tr>\n",
       "      <th>25</th>\n",
       "      <td>id_120</td>\n",
       "      <td>26.4342745209</td>\n",
       "    </tr>\n",
       "    <tr>\n",
       "      <th>26</th>\n",
       "      <td>id_121</td>\n",
       "      <td>37.3369798151</td>\n",
       "    </tr>\n",
       "    <tr>\n",
       "      <th>27</th>\n",
       "      <td>id_122</td>\n",
       "      <td>61.3689547329</td>\n",
       "    </tr>\n",
       "    <tr>\n",
       "      <th>28</th>\n",
       "      <td>id_123</td>\n",
       "      <td>3.13823301746</td>\n",
       "    </tr>\n",
       "    <tr>\n",
       "      <th>29</th>\n",
       "      <td>id_124</td>\n",
       "      <td>35.8240818532</td>\n",
       "    </tr>\n",
       "    <tr>\n",
       "      <th>...</th>\n",
       "      <td>...</td>\n",
       "      <td>...</td>\n",
       "    </tr>\n",
       "    <tr>\n",
       "      <th>230</th>\n",
       "      <td>id_72</td>\n",
       "      <td>32.344818281</td>\n",
       "    </tr>\n",
       "    <tr>\n",
       "      <th>231</th>\n",
       "      <td>id_73</td>\n",
       "      <td>14.1628261229</td>\n",
       "    </tr>\n",
       "    <tr>\n",
       "      <th>232</th>\n",
       "      <td>id_74</td>\n",
       "      <td>45.4853653768</td>\n",
       "    </tr>\n",
       "    <tr>\n",
       "      <th>233</th>\n",
       "      <td>id_75</td>\n",
       "      <td>60.7587071843</td>\n",
       "    </tr>\n",
       "    <tr>\n",
       "      <th>234</th>\n",
       "      <td>id_76</td>\n",
       "      <td>3.20169105392</td>\n",
       "    </tr>\n",
       "    <tr>\n",
       "      <th>235</th>\n",
       "      <td>id_77</td>\n",
       "      <td>35.5838672797</td>\n",
       "    </tr>\n",
       "    <tr>\n",
       "      <th>236</th>\n",
       "      <td>id_78</td>\n",
       "      <td>74.9983859385</td>\n",
       "    </tr>\n",
       "    <tr>\n",
       "      <th>237</th>\n",
       "      <td>id_79</td>\n",
       "      <td>39.5833566166</td>\n",
       "    </tr>\n",
       "    <tr>\n",
       "      <th>238</th>\n",
       "      <td>id_8</td>\n",
       "      <td>40.2757477957</td>\n",
       "    </tr>\n",
       "    <tr>\n",
       "      <th>239</th>\n",
       "      <td>id_80</td>\n",
       "      <td>50.1855665076</td>\n",
       "    </tr>\n",
       "    <tr>\n",
       "      <th>240</th>\n",
       "      <td>id_81</td>\n",
       "      <td>18.8115727401</td>\n",
       "    </tr>\n",
       "    <tr>\n",
       "      <th>241</th>\n",
       "      <td>id_82</td>\n",
       "      <td>14.3109642757</td>\n",
       "    </tr>\n",
       "    <tr>\n",
       "      <th>242</th>\n",
       "      <td>id_83</td>\n",
       "      <td>33.7739765624</td>\n",
       "    </tr>\n",
       "    <tr>\n",
       "      <th>243</th>\n",
       "      <td>id_84</td>\n",
       "      <td>13.0746101842</td>\n",
       "    </tr>\n",
       "    <tr>\n",
       "      <th>244</th>\n",
       "      <td>id_85</td>\n",
       "      <td>10.6500055427</td>\n",
       "    </tr>\n",
       "    <tr>\n",
       "      <th>245</th>\n",
       "      <td>id_86</td>\n",
       "      <td>25.7176004038</td>\n",
       "    </tr>\n",
       "    <tr>\n",
       "      <th>246</th>\n",
       "      <td>id_87</td>\n",
       "      <td>87.9829496209</td>\n",
       "    </tr>\n",
       "    <tr>\n",
       "      <th>247</th>\n",
       "      <td>id_88</td>\n",
       "      <td>27.1556166919</td>\n",
       "    </tr>\n",
       "    <tr>\n",
       "      <th>248</th>\n",
       "      <td>id_89</td>\n",
       "      <td>48.4081347227</td>\n",
       "    </tr>\n",
       "    <tr>\n",
       "      <th>249</th>\n",
       "      <td>id_9</td>\n",
       "      <td>19.2428449801</td>\n",
       "    </tr>\n",
       "    <tr>\n",
       "      <th>250</th>\n",
       "      <td>id_90</td>\n",
       "      <td>20.5814375611</td>\n",
       "    </tr>\n",
       "    <tr>\n",
       "      <th>251</th>\n",
       "      <td>id_91</td>\n",
       "      <td>63.2748508547</td>\n",
       "    </tr>\n",
       "    <tr>\n",
       "      <th>252</th>\n",
       "      <td>id_92</td>\n",
       "      <td>58.4024138733</td>\n",
       "    </tr>\n",
       "    <tr>\n",
       "      <th>253</th>\n",
       "      <td>id_93</td>\n",
       "      <td>7.17877059746</td>\n",
       "    </tr>\n",
       "    <tr>\n",
       "      <th>254</th>\n",
       "      <td>id_94</td>\n",
       "      <td>22.4592645077</td>\n",
       "    </tr>\n",
       "    <tr>\n",
       "      <th>255</th>\n",
       "      <td>id_95</td>\n",
       "      <td>29.6240204473</td>\n",
       "    </tr>\n",
       "    <tr>\n",
       "      <th>256</th>\n",
       "      <td>id_96</td>\n",
       "      <td>25.4455772197</td>\n",
       "    </tr>\n",
       "    <tr>\n",
       "      <th>257</th>\n",
       "      <td>id_97</td>\n",
       "      <td>-0.585975891516</td>\n",
       "    </tr>\n",
       "    <tr>\n",
       "      <th>258</th>\n",
       "      <td>id_98</td>\n",
       "      <td>17.4676809851</td>\n",
       "    </tr>\n",
       "    <tr>\n",
       "      <th>259</th>\n",
       "      <td>id_99</td>\n",
       "      <td>36.3899385851</td>\n",
       "    </tr>\n",
       "  </tbody>\n",
       "</table>\n",
       "<p>260 rows × 2 columns</p>\n",
       "</div>"
      ],
      "text/plain": [
       "         id            value\n",
       "0      id_0     39.172921412\n",
       "1      id_1    13.8352702002\n",
       "2     id_10    24.7370350586\n",
       "3    id_100    21.7670386954\n",
       "4    id_101    47.0883735583\n",
       "5    id_102    31.4087123148\n",
       "6    id_103    33.0513219307\n",
       "7    id_104    34.1614102709\n",
       "8    id_105     30.481528267\n",
       "9    id_106    16.9212358977\n",
       "10   id_107    38.0928194298\n",
       "11   id_108    9.03407260423\n",
       "12   id_109    71.7844389851\n",
       "13    id_11     41.587727611\n",
       "14   id_110    32.2556975154\n",
       "15   id_111    68.9354306171\n",
       "16   id_112    20.8678012921\n",
       "17   id_113    24.7533418067\n",
       "18   id_114    24.4558755712\n",
       "19   id_115    35.6273337861\n",
       "20   id_116    36.6382575144\n",
       "21   id_117    25.0140853021\n",
       "22   id_118    28.1382301493\n",
       "23   id_119    44.4752477362\n",
       "24    id_12    42.1013321402\n",
       "25   id_120    26.4342745209\n",
       "26   id_121    37.3369798151\n",
       "27   id_122    61.3689547329\n",
       "28   id_123    3.13823301746\n",
       "29   id_124    35.8240818532\n",
       "..      ...              ...\n",
       "230   id_72     32.344818281\n",
       "231   id_73    14.1628261229\n",
       "232   id_74    45.4853653768\n",
       "233   id_75    60.7587071843\n",
       "234   id_76    3.20169105392\n",
       "235   id_77    35.5838672797\n",
       "236   id_78    74.9983859385\n",
       "237   id_79    39.5833566166\n",
       "238    id_8    40.2757477957\n",
       "239   id_80    50.1855665076\n",
       "240   id_81    18.8115727401\n",
       "241   id_82    14.3109642757\n",
       "242   id_83    33.7739765624\n",
       "243   id_84    13.0746101842\n",
       "244   id_85    10.6500055427\n",
       "245   id_86    25.7176004038\n",
       "246   id_87    87.9829496209\n",
       "247   id_88    27.1556166919\n",
       "248   id_89    48.4081347227\n",
       "249    id_9    19.2428449801\n",
       "250   id_90    20.5814375611\n",
       "251   id_91    63.2748508547\n",
       "252   id_92    58.4024138733\n",
       "253   id_93    7.17877059746\n",
       "254   id_94    22.4592645077\n",
       "255   id_95    29.6240204473\n",
       "256   id_96    25.4455772197\n",
       "257   id_97  -0.585975891516\n",
       "258   id_98    17.4676809851\n",
       "259   id_99    36.3899385851\n",
       "\n",
       "[260 rows x 2 columns]"
      ]
     },
     "execution_count": 38,
     "metadata": {},
     "output_type": "execute_result"
    }
   ],
   "source": [
    "pd.DataFrame(results, columns=['id', 'value'])"
   ]
  },
  {
   "cell_type": "code",
   "execution_count": null,
   "metadata": {},
   "outputs": [],
   "source": []
  }
 ],
 "metadata": {
  "kernelspec": {
   "display_name": "Python 3",
   "language": "python",
   "name": "python3"
  },
  "language_info": {
   "codemirror_mode": {
    "name": "ipython",
    "version": 3
   },
   "file_extension": ".py",
   "mimetype": "text/x-python",
   "name": "python",
   "nbconvert_exporter": "python",
   "pygments_lexer": "ipython3",
   "version": "3.6.4"
  }
 },
 "nbformat": 4,
 "nbformat_minor": 2
}
