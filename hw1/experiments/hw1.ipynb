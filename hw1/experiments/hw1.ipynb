{
 "cells": [
  {
   "cell_type": "code",
   "execution_count": 1,
   "metadata": {},
   "outputs": [],
   "source": [
    "import numpy as np\n",
    "import pandas as pd\n",
    "import matplotlib.pyplot as plt"
   ]
  },
  {
   "cell_type": "code",
   "execution_count": 2,
   "metadata": {},
   "outputs": [],
   "source": [
    "class DataManager:\n",
    "    def __init__(self):\n",
    "        self.feature = None\n",
    "        self.rdf = None # raw df\n",
    "        self.data = None # dictionary of processed dfs data\n",
    "        self.X = None\n",
    "        self.y = None\n",
    "        self.tdata = None\n",
    "        \n",
    "    def read_training_data(self, file_name):\n",
    "        df = pd.read_csv(file_name, encoding='big5', na_values=['NR'])\n",
    "        df = df.fillna(0.0)\n",
    "        df = df.rename(columns={\n",
    "            df.columns[0]: 'date',\n",
    "            df.columns[1]: 'location',\n",
    "            df.columns[2]: 'feature'\n",
    "        })\n",
    "        df.date = pd.to_datetime(df.date)\n",
    "        df = df.drop(columns=['location'])\n",
    "        self.feature = sorted(df.feature.unique())\n",
    "        self.rdf = df\n",
    "        self.rdf_to_data()\n",
    "        return \n",
    "    \n",
    "    def preprocess_mdfs(self, mdfs):\n",
    "        for m, df in mdfs.items():\n",
    "#             nrows, ncols = df. shape\n",
    "            cols = df.columns\n",
    "#             mask = np.zeros((nrows, 1), dtype=bool)\n",
    "            for col in cols:\n",
    "                df = df[df[col] > 0.0]\n",
    "#                 print(df)\n",
    "            \n",
    "            mdfs[m] = df\n",
    "            \n",
    "        return mdfs\n",
    "    \n",
    "    def rdf_to_data(self):\n",
    "        rdf = self.rdf\n",
    "        data = {month: {feature: df.drop(columns=['date', 'feature']).values.flatten() for feature, df in mdf.groupby(mdf.feature)} for month, mdf in rdf.groupby(rdf.date.dt.month)}\n",
    "        self.data = data\n",
    "        return \n",
    "    \n",
    "    def select_feature_to_mdfs(self, feature_list=None):\n",
    "        if feature_list is None:\n",
    "            feature_list = self.feature\n",
    "#         mdfs = {month: pd.DataFrame(columns=feature_list) for month in range(1, 13)}\n",
    "        mdfs = {month: pd.DataFrame(columns=sorted(feature_list)) for month in range(1, 13)}\n",
    "\n",
    "        for month, fdata in self.data.items():\n",
    "            for feature in feature_list:\n",
    "                mdfs[month][feature] = fdata[feature]\n",
    "            \n",
    "        return mdfs\n",
    "    \n",
    "    \n",
    "    def chunk_examples(self, mdfs, chunk_size):\n",
    "        X = []\n",
    "        y = []\n",
    "        for month, mdf in mdfs.items():\n",
    "            nrows, ncols = mdf.shape\n",
    "\n",
    "            for i in range(nrows-chunk_size):\n",
    "#                 X.append(mdf.iloc[i:i+chunk_size].T.values.flatten())\n",
    "#                 print(mdf)\n",
    "                X.append(mdf.iloc[i:i+chunk_size].values.flatten())\n",
    "                y.append(mdf['PM2.5'].iloc[i+chunk_size])\n",
    "#                 print(mdf.iloc[i:i+chunk_size], mdf['PM2.5'].iloc[i+chunk_size])\n",
    "                \n",
    "        self.X = np.array(X)\n",
    "        self.y = np.array(y).reshape((-1, 1))\n",
    "        return self.X, self.y\n",
    "    \n",
    "    def get_shuffle_index(self):\n",
    "        m, n = self.X.shape\n",
    "        idx = np.random.permutation(np.arange(m))\n",
    "        return idx\n",
    "    \n",
    "    def read_testing_data(self, file_name):\n",
    "        df = pd.read_csv(file_name, header=None, na_values=['NR'])\n",
    "        df = df.rename(columns={0: 'id', 1: 'feature'})\n",
    "        df = df.fillna(0.0)\n",
    "        self.tdata = df\n",
    "        return\n",
    "    \n",
    "    def select_testing_feature(self, feature_list=None):\n",
    "        if feature_list is None:\n",
    "            feature_list = self.feature\n",
    "            \n",
    "        iddfs = {i: df for i, df in self.tdata.groupby(self.tdata.id)}\n",
    "        \n",
    "        for i, df in iddfs.items():\n",
    "            columns = df.feature\n",
    "            df = df.drop(columns=['id', 'feature']).T\n",
    "            df.columns = columns\n",
    "            df = df[sorted(feature_list)]\n",
    "            iddfs[i] = df\n",
    "        return iddfs\n"
   ]
  },
  {
   "cell_type": "code",
   "execution_count": 3,
   "metadata": {},
   "outputs": [],
   "source": [
    "def shuffle_index(X, y):\n",
    "    m, n = X.shape\n",
    "    sidx = np.random.permutation(m)\n",
    "    return sidx, X[sidx], y[sidx]"
   ]
  },
  {
   "cell_type": "code",
   "execution_count": 4,
   "metadata": {},
   "outputs": [],
   "source": [
    "def chunk_validation_set(portion, X, y):\n",
    "    m, n = X.shape\n",
    "    sidx, sX, sy = shuffle_index(X, y)\n",
    "    nval = int(portion*m)\n",
    "    return (X[nval:], y[nval]), (X[0:nval], y[0:nval])"
   ]
  },
  {
   "cell_type": "code",
   "execution_count": 5,
   "metadata": {},
   "outputs": [],
   "source": [
    "def normalize_data(X):\n",
    "    mu = np.mean(X, axis=0)\n",
    "    sigma = np.std(X, axis=0)\n",
    "    X_n = (X - mu) / sigma\n",
    "    return X_n, mu, sigma"
   ]
  },
  {
   "cell_type": "code",
   "execution_count": 6,
   "metadata": {},
   "outputs": [],
   "source": [
    "def norm_eq(X, y):\n",
    "    theta = np.dot(np.dot(np.linalg.pinv(np.dot(X.T, X)), X.T), y)\n",
    "    return theta"
   ]
  },
  {
   "cell_type": "code",
   "execution_count": 7,
   "metadata": {},
   "outputs": [],
   "source": [
    "def predict(theta, instance):\n",
    "    h_theta = np.dot(instance, theta)\n",
    "    return h_theta"
   ]
  },
  {
   "cell_type": "code",
   "execution_count": 8,
   "metadata": {},
   "outputs": [],
   "source": [
    "def h(X, theta):\n",
    "    return np.dot(X, theta)"
   ]
  },
  {
   "cell_type": "code",
   "execution_count": 9,
   "metadata": {},
   "outputs": [],
   "source": [
    "def J(theta, h, X, y, lamb):\n",
    "    m, n = X.shape\n",
    "    square_error = np.sum((h(X, theta) - y)**2)\n",
    "    return (1 / 2) * (1 / m) * (square_error + lamb * np.dot(theta[1:].T, theta[1:]))"
   ]
  },
  {
   "cell_type": "code",
   "execution_count": 10,
   "metadata": {},
   "outputs": [],
   "source": [
    "def gradient_descent(theta, h, X, y, eta, lamb, n_iters):\n",
    "    m, n = X.shape\n",
    "    theta_record = np.zeros((n_iters, *theta.shape))\n",
    "    loss_record = np.zeros((n_iters, 1))\n",
    "    \n",
    "    theta_record[0] = theta\n",
    "    loss_record[0] = J(theta, h, X, y)\n",
    "    grad_square_sum = np.zeros(theta.shape)\n",
    "    for i in range(1, n_iters):\n",
    "        total_grad = np.dot(X.T, (h(X, theta) - y)) \n",
    "        total_grad[1:] = total_grad[1:] + lamd * theta[1:]\n",
    "        grad = (1 / m) * total_grad\n",
    "        \n",
    "        grad_square_sum = grad**2 + grad_square_sum\n",
    "        \n",
    "        theta = theta - eta * grad / np.sqrt(grad_square_sum)\n",
    "        theta_record[i] = theta\n",
    "        loss_record[i] = J(theta, h, X, y, lamb)\n",
    "        \n",
    "    return theta, theta_record, loss_record"
   ]
  },
  {
   "cell_type": "code",
   "execution_count": 11,
   "metadata": {},
   "outputs": [],
   "source": [
    "def initialize_theta(X):\n",
    "    m, n = X.shape\n",
    "    \n",
    "    return np.random.normal(loc=0, scale=1, size=(n, 1))"
   ]
  },
  {
   "cell_type": "code",
   "execution_count": 12,
   "metadata": {},
   "outputs": [],
   "source": [
    "def find_example_error(theta, h, J, X, y):\n",
    "    error_list = []\n",
    "\n",
    "    for i, example in enumerate(zip(X, y)):\n",
    "        xx, yy = example\n",
    "        xx = xx.reshape((1, -1))\n",
    "        yy = yy.reshape((1, 1))\n",
    "        error_list.append((J(theta, h, xx, yy), i, xx, yy))\n",
    "\n",
    "    return error_list"
   ]
  },
  {
   "cell_type": "code",
   "execution_count": 13,
   "metadata": {},
   "outputs": [],
   "source": [
    "def validate_data(rate, h, J, X, y):\n",
    "    print(X.shape)\n",
    "    norm_theta = norm_eq(X, y)\n",
    "    error_list = sorted(find_example_error(norm_theta, h, J, X, y), reverse=True)\n",
    "    to_drop = error_list[0:int(rate*len(error_list))]\n",
    "    to_drop_idx = [idx for err, idx, xx, yy in to_drop]\n",
    "    print(error_list[0:3], error_list[100:103])\n",
    "    return np.delete(X, to_drop_idx, axis=0), np.delete(y, to_drop_idx, axis=0)"
   ]
  },
  {
   "cell_type": "code",
   "execution_count": 14,
   "metadata": {},
   "outputs": [],
   "source": [
    "def remove_non_positive_data(X, y):\n",
    "    Xmask = np.all(X > 0, axis=1)\n",
    "    ymask = np.all(y > 0, axis=1)\n",
    "    mask = Xmask & ymask\n",
    "    return X[mask], y[mask]"
   ]
  },
  {
   "cell_type": "code",
   "execution_count": 15,
   "metadata": {},
   "outputs": [],
   "source": [
    "def remove_strange_data(X, y):\n",
    "    Xmask = np.all(X < 300, axis=1)\n",
    "    ymask = np.all(y < 300, axis=1)\n",
    "    mask = Xmask & ymask\n",
    "    return X[mask], y[mask]"
   ]
  },
  {
   "cell_type": "code",
   "execution_count": null,
   "metadata": {},
   "outputs": [],
   "source": []
  },
  {
   "cell_type": "code",
   "execution_count": 16,
   "metadata": {},
   "outputs": [],
   "source": [
    "dm = DataManager()"
   ]
  },
  {
   "cell_type": "code",
   "execution_count": 17,
   "metadata": {},
   "outputs": [],
   "source": [
    "dm.read_training_data('./train.csv')"
   ]
  },
  {
   "cell_type": "code",
   "execution_count": 18,
   "metadata": {},
   "outputs": [],
   "source": [
    "# mdfs = dm.select_feature_to_mdfs(['PM2.5', 'PM10'])\n",
    "mdfs = dm.select_feature_to_mdfs(['PM2.5'])"
   ]
  },
  {
   "cell_type": "code",
   "execution_count": 19,
   "metadata": {},
   "outputs": [
    {
     "data": {
      "text/plain": [
       "(480, 1)"
      ]
     },
     "execution_count": 19,
     "metadata": {},
     "output_type": "execute_result"
    }
   ],
   "source": [
    "# mdfs = dm.preprocess_mdfs(mdfs)\n",
    "mdfs[1].shape"
   ]
  },
  {
   "cell_type": "code",
   "execution_count": 20,
   "metadata": {},
   "outputs": [],
   "source": [
    "X, y = dm.chunk_examples(mdfs, chunk_size=4)"
   ]
  },
  {
   "cell_type": "code",
   "execution_count": 21,
   "metadata": {},
   "outputs": [
    {
     "data": {
      "text/plain": [
       "(5392, 4)"
      ]
     },
     "execution_count": 21,
     "metadata": {},
     "output_type": "execute_result"
    }
   ],
   "source": [
    "X, y = remove_non_positive_data(X, y)\n",
    "X.shape"
   ]
  },
  {
   "cell_type": "code",
   "execution_count": 22,
   "metadata": {},
   "outputs": [
    {
     "data": {
      "text/plain": [
       "(5385, 4)"
      ]
     },
     "execution_count": 22,
     "metadata": {},
     "output_type": "execute_result"
    }
   ],
   "source": [
    "X, y = remove_strange_data(X, y)\n",
    "X.shape"
   ]
  },
  {
   "cell_type": "code",
   "execution_count": 23,
   "metadata": {},
   "outputs": [
    {
     "ename": "TypeError",
     "evalue": "J() missing 1 required positional argument: 'lamb'",
     "output_type": "error",
     "traceback": [
      "\u001b[0;31m---------------------------------------------------------------------------\u001b[0m",
      "\u001b[0;31mTypeError\u001b[0m                                 Traceback (most recent call last)",
      "\u001b[0;32m<ipython-input-23-6c2221ac0fb9>\u001b[0m in \u001b[0;36m<module>\u001b[0;34m()\u001b[0m\n\u001b[0;32m----> 1\u001b[0;31m \u001b[0merrlist\u001b[0m \u001b[0;34m=\u001b[0m \u001b[0mfind_example_error\u001b[0m\u001b[0;34m(\u001b[0m\u001b[0mnorm_eq\u001b[0m\u001b[0;34m(\u001b[0m\u001b[0mnp\u001b[0m\u001b[0;34m.\u001b[0m\u001b[0minsert\u001b[0m\u001b[0;34m(\u001b[0m\u001b[0mX\u001b[0m\u001b[0;34m,\u001b[0m \u001b[0;36m0\u001b[0m\u001b[0;34m,\u001b[0m \u001b[0;36m1\u001b[0m\u001b[0;34m,\u001b[0m \u001b[0;36m1\u001b[0m\u001b[0;34m)\u001b[0m\u001b[0;34m,\u001b[0m \u001b[0my\u001b[0m\u001b[0;34m)\u001b[0m\u001b[0;34m,\u001b[0m \u001b[0mh\u001b[0m\u001b[0;34m,\u001b[0m \u001b[0mJ\u001b[0m\u001b[0;34m,\u001b[0m \u001b[0mnp\u001b[0m\u001b[0;34m.\u001b[0m\u001b[0minsert\u001b[0m\u001b[0;34m(\u001b[0m\u001b[0mX\u001b[0m\u001b[0;34m,\u001b[0m \u001b[0;36m0\u001b[0m\u001b[0;34m,\u001b[0m \u001b[0;36m1\u001b[0m\u001b[0;34m,\u001b[0m \u001b[0;36m1\u001b[0m\u001b[0;34m)\u001b[0m\u001b[0;34m,\u001b[0m \u001b[0my\u001b[0m\u001b[0;34m)\u001b[0m\u001b[0;34m\u001b[0m\u001b[0m\n\u001b[0m\u001b[1;32m      2\u001b[0m \u001b[0mfig\u001b[0m\u001b[0;34m,\u001b[0m \u001b[0max\u001b[0m \u001b[0;34m=\u001b[0m \u001b[0mplt\u001b[0m\u001b[0;34m.\u001b[0m\u001b[0msubplots\u001b[0m\u001b[0;34m(\u001b[0m\u001b[0;34m)\u001b[0m\u001b[0;34m\u001b[0m\u001b[0m\n\u001b[1;32m      3\u001b[0m \u001b[0max\u001b[0m\u001b[0;34m.\u001b[0m\u001b[0mscatter\u001b[0m\u001b[0;34m(\u001b[0m\u001b[0mnp\u001b[0m\u001b[0;34m.\u001b[0m\u001b[0marange\u001b[0m\u001b[0;34m(\u001b[0m\u001b[0mlen\u001b[0m\u001b[0;34m(\u001b[0m\u001b[0merrlist\u001b[0m\u001b[0;34m)\u001b[0m\u001b[0;34m)\u001b[0m\u001b[0;34m,\u001b[0m \u001b[0;34m[\u001b[0m\u001b[0mj\u001b[0m \u001b[0;32mfor\u001b[0m \u001b[0mj\u001b[0m\u001b[0;34m,\u001b[0m\u001b[0m_\u001b[0m\u001b[0;34m,\u001b[0m\u001b[0m_\u001b[0m\u001b[0;34m,\u001b[0m\u001b[0m_\u001b[0m \u001b[0;32min\u001b[0m \u001b[0merrlist\u001b[0m\u001b[0;34m]\u001b[0m\u001b[0;34m)\u001b[0m\u001b[0;34m\u001b[0m\u001b[0m\n",
      "\u001b[0;32m<ipython-input-12-8bc8f6f27a63>\u001b[0m in \u001b[0;36mfind_example_error\u001b[0;34m(theta, h, J, X, y)\u001b[0m\n\u001b[1;32m      6\u001b[0m         \u001b[0mxx\u001b[0m \u001b[0;34m=\u001b[0m \u001b[0mxx\u001b[0m\u001b[0;34m.\u001b[0m\u001b[0mreshape\u001b[0m\u001b[0;34m(\u001b[0m\u001b[0;34m(\u001b[0m\u001b[0;36m1\u001b[0m\u001b[0;34m,\u001b[0m \u001b[0;34m-\u001b[0m\u001b[0;36m1\u001b[0m\u001b[0;34m)\u001b[0m\u001b[0;34m)\u001b[0m\u001b[0;34m\u001b[0m\u001b[0m\n\u001b[1;32m      7\u001b[0m         \u001b[0myy\u001b[0m \u001b[0;34m=\u001b[0m \u001b[0myy\u001b[0m\u001b[0;34m.\u001b[0m\u001b[0mreshape\u001b[0m\u001b[0;34m(\u001b[0m\u001b[0;34m(\u001b[0m\u001b[0;36m1\u001b[0m\u001b[0;34m,\u001b[0m \u001b[0;36m1\u001b[0m\u001b[0;34m)\u001b[0m\u001b[0;34m)\u001b[0m\u001b[0;34m\u001b[0m\u001b[0m\n\u001b[0;32m----> 8\u001b[0;31m         \u001b[0merror_list\u001b[0m\u001b[0;34m.\u001b[0m\u001b[0mappend\u001b[0m\u001b[0;34m(\u001b[0m\u001b[0;34m(\u001b[0m\u001b[0mJ\u001b[0m\u001b[0;34m(\u001b[0m\u001b[0mtheta\u001b[0m\u001b[0;34m,\u001b[0m \u001b[0mh\u001b[0m\u001b[0;34m,\u001b[0m \u001b[0mxx\u001b[0m\u001b[0;34m,\u001b[0m \u001b[0myy\u001b[0m\u001b[0;34m)\u001b[0m\u001b[0;34m,\u001b[0m \u001b[0mi\u001b[0m\u001b[0;34m,\u001b[0m \u001b[0mxx\u001b[0m\u001b[0;34m,\u001b[0m \u001b[0myy\u001b[0m\u001b[0;34m)\u001b[0m\u001b[0;34m)\u001b[0m\u001b[0;34m\u001b[0m\u001b[0m\n\u001b[0m\u001b[1;32m      9\u001b[0m \u001b[0;34m\u001b[0m\u001b[0m\n\u001b[1;32m     10\u001b[0m     \u001b[0;32mreturn\u001b[0m \u001b[0merror_list\u001b[0m\u001b[0;34m\u001b[0m\u001b[0m\n",
      "\u001b[0;31mTypeError\u001b[0m: J() missing 1 required positional argument: 'lamb'"
     ]
    }
   ],
   "source": [
    "errlist = find_example_error(norm_eq(np.insert(X, 0, 1, 1), y), h, J, np.insert(X, 0, 1, 1), y)\n",
    "fig, ax = plt.subplots()\n",
    "ax.scatter(np.arange(len(errlist)), [j for j,_,_,_ in errlist])"
   ]
  },
  {
   "cell_type": "code",
   "execution_count": 66,
   "metadata": {},
   "outputs": [
    {
     "name": "stdout",
     "output_type": "stream",
     "text": [
      "(1151.8760526816866, 461, array([[  1.,  75.,  72.,  60.,  50.]]), array([[ 0.]]))\n",
      "(804.80756410121819, 462, array([[  1.,  72.,  60.,  50.,   0.]]), array([[ 51.]]))\n",
      "(699.57829180931401, 869, array([[  1.,  41.,  49.,  48.,  41.]]), array([[ 0.]]))\n",
      "(2140.9918226681102, 1203, array([[   1.,  101.,  107.,   92.,   73.]]), array([[ 0.]]))\n",
      "(1087.4081368349555, 1204, array([[   1.,  107.,   92.,   73.,    0.]]), array([[ 60.]]))\n",
      "(2543.6056231786765, 1217, array([[  1.,  61.,  66.,  66.,  69.]]), array([[ 131.]]))\n",
      "(329360.52965533262, 1218, array([[   1.,   66.,   66.,   69.,  131.]]), array([[ 919.]]))\n",
      "(23882.040348434097, 1219, array([[   1.,   66.,   69.,  131.,  919.]]), array([[ 919.]]))\n",
      "(45173.771942050749, 1220, array([[   1.,   69.,  131.,  919.,  919.]]), array([[ 919.]]))\n",
      "(181246.9330288771, 1221, array([[   1.,  131.,  919.,  919.,  919.]]), array([[ 0.]]))\n",
      "(657.16074509288819, 1222, array([[   1.,  919.,  919.,  919.,    0.]]), array([[ 0.]]))\n",
      "(302604.31187855068, 1223, array([[   1.,  919.,  919.,    0.,    0.]]), array([[ 908.]]))\n",
      "(1913.4519315993941, 1224, array([[   1.,  919.,    0.,    0.,  908.]]), array([[ 914.]]))\n",
      "(46657.129639566629, 1225, array([[   1.,    0.,    0.,  908.,  914.]]), array([[ 914.]]))\n",
      "(56788.170146142817, 1226, array([[   1.,    0.,  908.,  914.,  914.]]), array([[ 914.]]))\n",
      "(218082.44113966872, 1227, array([[   1.,  908.,  914.,  914.,  914.]]), array([[ 70.]]))\n",
      "(4512.9436243143573, 1229, array([[   1.,  914.,  914.,   70.,   72.]]), array([[ 82.]]))\n",
      "(8083.9866646381088, 1230, array([[   1.,  914.,   70.,   72.,   82.]]), array([[ 86.]]))\n",
      "(1452.5435453070215, 1293, array([[  1.,  47.,  53.,  59.,  63.]]), array([[ 0.]]))\n",
      "(550.44115167752113, 1419, array([[  1.,  43.,  42.,  35.,  29.]]), array([[-3.]]))\n",
      "(195460.61508425215, 1459, array([[  1.,  13.,  19.,  16.,   0.]]), array([[ 631.]]))\n",
      "(116918.55343082066, 1460, array([[   1.,   19.,   16.,    0.,  631.]]), array([[ 5.]]))\n",
      "(1354.4114432871345, 1461, array([[   1.,   16.,    0.,  631.,    5.]]), array([[ 0.]]))\n",
      "(5679.0381234274219, 1463, array([[   1.,  631.,    5.,    0.,   12.]]), array([[ 15.]]))\n",
      "(595.69915872565457, 1702, array([[  1.,  45.,  42.,  48.,  36.]]), array([[ 0.]]))\n",
      "(1154.9742471513894, 2224, array([[  1.,   8.,   7.,  10.,   0.]]), array([[ 54.]]))\n",
      "(914.61722345107785, 2225, array([[  1.,   7.,  10.,   0.,  54.]]), array([[ 5.]]))\n",
      "(1211.2073060359842, 2436, array([[  1.,   7.,  15.,  17.,   0.]]), array([[ 54.]]))\n",
      "(919.55421195587712, 2437, array([[  1.,  15.,  17.,   0.,  54.]]), array([[ 6.]]))\n",
      "(3083.1857282538276, 2932, array([[  1.,  41.,  23.,  23.,  30.]]), array([[ 111.]]))\n",
      "(548.64598924742256, 2934, array([[   1.,   23.,   30.,  111.,  115.]]), array([[ 118.]]))\n",
      "(1258.7389024699196, 2935, array([[   1.,   30.,  111.,  115.,  118.]]), array([[ 35.]]))\n",
      "(621.75481899778561, 3281, array([[  1.,  21.,   0.,   0.,  34.]]), array([[ 0.]]))\n",
      "(3715.699210699278, 3675, array([[  1.,  24.,  20.,  14.,   0.]]), array([[ 94.]]))\n",
      "(732.07993975634679, 3676, array([[  1.,  20.,  14.,   0.,  94.]]), array([[ 42.]]))\n",
      "(682.17319554247342, 3887, array([[  1.,  22.,  37.,  40.,  43.]]), array([[ 0.]]))\n",
      "(585.49481701023808, 4058, array([[  1.,  41.,  62.,  64.,  54.]]), array([[ 11.]]))\n",
      "(916.56550685830337, 4626, array([[  1.,  47.,  51.,  49.,  47.]]), array([[ 0.]]))\n",
      "(1504.9413367866969, 4650, array([[  1.,  62.,  68.,  69.,  59.]]), array([[-3.]]))\n",
      "(540.55206906834428, 4816, array([[  1.,  21.,  22.,  22.,  -3.]]), array([[ 37.]]))\n",
      "(554.72521685892252, 5227, array([[  1.,  27.,  30.,  34.,  36.]]), array([[ 0.]]))\n",
      "(531.7123049638268, 5294, array([[  1.,  43.,  45.,  40.,  33.]]), array([[ 0.]]))\n",
      "(553.52886851199526, 5295, array([[  1.,  45.,  40.,  33.,   0.]]), array([[ 42.]]))\n",
      "(631.88584760134972, 5369, array([[  1.,  25.,  26.,  32.,  35.]]), array([[-3.]]))\n",
      "(900.53131810722698, 5387, array([[ 1.,  0.,  0.,  0., -3.]]), array([[ 46.]]))\n",
      "(690.3925649535206, 5435, array([[  1.,  25.,  17.,  26.,   0.]]), array([[ 44.]]))\n",
      "(2115.9425613764834, 5458, array([[  1.,  55.,  54.,  67.,  77.]]), array([[ 0.]]))\n",
      "(2255.2242925143755, 5459, array([[  1.,  54.,  67.,  77.,   0.]]), array([[ 72.]]))\n",
      "(626.76587908135582, 5529, array([[  1.,  21.,  12.,  24.,  34.]]), array([[-3.]]))\n",
      "(2747.3681405443413, 5577, array([[  1.,  89.,  83.,  84.,  81.]]), array([[-3.]]))\n",
      "(2347.6563956610471, 5578, array([[  1.,  83.,  84.,  81.,  -3.]]), array([[ 75.]]))\n"
     ]
    }
   ],
   "source": [
    "for i in errlist:\n",
    "    if i[0] > 500:\n",
    "        print(i)"
   ]
  },
  {
   "cell_type": "code",
   "execution_count": 67,
   "metadata": {},
   "outputs": [],
   "source": [
    "X_n, mu, sigma = normalize_data(X)\n",
    "X_n = np.insert(X_n, obj=0, values=1, axis=1)"
   ]
  },
  {
   "cell_type": "code",
   "execution_count": 68,
   "metadata": {
    "scrolled": false
   },
   "outputs": [
    {
     "name": "stdout",
     "output_type": "stream",
     "text": [
      "(5712, 5)\n",
      "[(329360.52965533186, 1218, array([[ 1.        ,  1.0052195 ,  1.00635974,  1.08815886,  2.75839757]]), array([[ 919.]])), (302604.31187854958, 1223, array([[  1.        ,  23.929904  ,  23.94287695,  -0.7680523 ,\n",
      "         -0.76769179]]), array([[ 908.]])), (218082.44113967248, 1227, array([[  1.        ,  23.63427501,  23.80843078,  23.82002022,\n",
      "         23.83418355]]), array([[ 70.]]))] [(255.8643262648738, 723, array([[ 1.        , -0.33854864, -0.31121276, -0.41833136, -0.20244082]]), array([[ 0.]])), (250.30819491340208, 3914, array([[ 1.        ,  0.25270934,  0.11901499, -0.14931524,  0.03980959]]), array([[ 54.]])), (248.28711515540178, 446, array([[ 1.        ,  0.73646587,  0.92569203,  0.9267492 ,  1.03572796]]), array([[ 80.]]))]\n"
     ]
    },
    {
     "data": {
      "text/plain": [
       "(4856, 5)"
      ]
     },
     "execution_count": 68,
     "metadata": {},
     "output_type": "execute_result"
    }
   ],
   "source": [
    "X_n, y = validate_data(0.15, h, J, X_n, y)\n",
    "# X_n, y = validate_data(0.001, h, J, X_n, y)\n",
    "X_n.shape"
   ]
  },
  {
   "cell_type": "code",
   "execution_count": 26,
   "metadata": {},
   "outputs": [],
   "source": [
    "norm_theta = norm_eq(X_n, y)"
   ]
  },
  {
   "cell_type": "code",
   "execution_count": 27,
   "metadata": {},
   "outputs": [],
   "source": [
    "dm.read_testing_data('./test.csv')"
   ]
  },
  {
   "cell_type": "code",
   "execution_count": 28,
   "metadata": {},
   "outputs": [
    {
     "data": {
      "text/html": [
       "<div>\n",
       "<style scoped>\n",
       "    .dataframe tbody tr th:only-of-type {\n",
       "        vertical-align: middle;\n",
       "    }\n",
       "\n",
       "    .dataframe tbody tr th {\n",
       "        vertical-align: top;\n",
       "    }\n",
       "\n",
       "    .dataframe thead th {\n",
       "        text-align: right;\n",
       "    }\n",
       "</style>\n",
       "<table border=\"1\" class=\"dataframe\">\n",
       "  <thead>\n",
       "    <tr style=\"text-align: right;\">\n",
       "      <th>feature</th>\n",
       "      <th>PM2.5</th>\n",
       "    </tr>\n",
       "  </thead>\n",
       "  <tbody>\n",
       "    <tr>\n",
       "      <th>2</th>\n",
       "      <td>73.0</td>\n",
       "    </tr>\n",
       "    <tr>\n",
       "      <th>3</th>\n",
       "      <td>88.0</td>\n",
       "    </tr>\n",
       "    <tr>\n",
       "      <th>4</th>\n",
       "      <td>92.0</td>\n",
       "    </tr>\n",
       "    <tr>\n",
       "      <th>5</th>\n",
       "      <td>89.0</td>\n",
       "    </tr>\n",
       "    <tr>\n",
       "      <th>6</th>\n",
       "      <td>86.0</td>\n",
       "    </tr>\n",
       "    <tr>\n",
       "      <th>7</th>\n",
       "      <td>80.0</td>\n",
       "    </tr>\n",
       "    <tr>\n",
       "      <th>8</th>\n",
       "      <td>93.0</td>\n",
       "    </tr>\n",
       "    <tr>\n",
       "      <th>9</th>\n",
       "      <td>91.0</td>\n",
       "    </tr>\n",
       "    <tr>\n",
       "      <th>10</th>\n",
       "      <td>95.0</td>\n",
       "    </tr>\n",
       "  </tbody>\n",
       "</table>\n",
       "</div>"
      ],
      "text/plain": [
       "feature  PM2.5\n",
       "2         73.0\n",
       "3         88.0\n",
       "4         92.0\n",
       "5         89.0\n",
       "6         86.0\n",
       "7         80.0\n",
       "8         93.0\n",
       "9         91.0\n",
       "10        95.0"
      ]
     },
     "execution_count": 28,
     "metadata": {},
     "output_type": "execute_result"
    }
   ],
   "source": [
    "# tX = dm.select_testing_feature(['PM2.5', 'PM10'])\n",
    "tX = dm.select_testing_feature(['PM2.5'])\n",
    "tX['id_87']#.iloc[-5:, :]\n"
   ]
  },
  {
   "cell_type": "code",
   "execution_count": 29,
   "metadata": {},
   "outputs": [
    {
     "name": "stdout",
     "output_type": "stream",
     "text": [
      "(5, 1)\n"
     ]
    },
    {
     "data": {
      "text/plain": [
       "array([ 6.1570703])"
      ]
     },
     "execution_count": 29,
     "metadata": {},
     "output_type": "execute_result"
    }
   ],
   "source": [
    "init_theta = initialize_theta(X_n)\n",
    "print(init_theta.shape)\n",
    "theta, theta_record, loss_record = gradient_descent(init_theta, h, X_n, y, eta=0.1, n_iters=200000)\n",
    "loss_record[-1]"
   ]
  },
  {
   "cell_type": "code",
   "execution_count": 30,
   "metadata": {},
   "outputs": [],
   "source": [
    "results = []\n",
    "for i, tdf in tX.items():\n",
    "    tdf = tdf.iloc[-4:, :]\n",
    "    instance_n = (tdf.values.flatten() - mu) / sigma\n",
    "#     instance_n = (tdf.T.values.flatten() - mu) / sigma\n",
    "\n",
    "#     print(tdf.T.values.flatten())\n",
    "    results.append((i, predict(norm_theta, np.insert(instance_n.reshape((1, -1)), obj=0, values=1, axis=1))[0, 0]))\n",
    "results = np.array(results)"
   ]
  },
  {
   "cell_type": "code",
   "execution_count": 31,
   "metadata": {},
   "outputs": [
    {
     "data": {
      "text/plain": [
       "array([[ 27.73090011],\n",
       "       [  6.5516336 ],\n",
       "       [ -9.66625777],\n",
       "       [  0.44080907],\n",
       "       [ 20.23729326]])"
      ]
     },
     "execution_count": 31,
     "metadata": {},
     "output_type": "execute_result"
    }
   ],
   "source": [
    "theta"
   ]
  },
  {
   "cell_type": "code",
   "execution_count": 32,
   "metadata": {},
   "outputs": [
    {
     "data": {
      "text/plain": [
       "array([[ 27.73237719],\n",
       "       [  6.56946747],\n",
       "       [ -9.62713594],\n",
       "       [  0.27724375],\n",
       "       [ 20.34895588]])"
      ]
     },
     "execution_count": 32,
     "metadata": {},
     "output_type": "execute_result"
    }
   ],
   "source": [
    "norm_theta"
   ]
  },
  {
   "cell_type": "code",
   "execution_count": 33,
   "metadata": {},
   "outputs": [
    {
     "data": {
      "text/plain": [
       "[<matplotlib.lines.Line2D at 0x7fcf41a38a20>]"
      ]
     },
     "execution_count": 33,
     "metadata": {},
     "output_type": "execute_result"
    },
    {
     "data": {
      "image/png": "[encoded data removed]",
      "text/plain": [
       "<matplotlib.figure.Figure at 0x7fcf41a389e8>"
      ]
     },
     "metadata": {},
     "output_type": "display_data"
    }
   ],
   "source": [
    "fig, ax = plt.subplots()\n",
    "ax.plot(np.arange(loss_record.size), loss_record)\n",
    "# len(loss_record)"
   ]
  },
  {
   "cell_type": "code",
   "execution_count": 34,
   "metadata": {},
   "outputs": [
    {
     "data": {
      "text/plain": [
       "6.1570702956622885"
      ]
     },
     "execution_count": 34,
     "metadata": {},
     "output_type": "execute_result"
    }
   ],
   "source": [
    "J(theta, h, X_n, y)"
   ]
  },
  {
   "cell_type": "code",
   "execution_count": 35,
   "metadata": {},
   "outputs": [
    {
     "data": {
      "text/plain": [
       "6.1564104116872622"
      ]
     },
     "execution_count": 35,
     "metadata": {},
     "output_type": "execute_result"
    }
   ],
   "source": [
    "J(norm_theta, h, X_n, y)"
   ]
  },
  {
   "cell_type": "code",
   "execution_count": 38,
   "metadata": {},
   "outputs": [],
   "source": [
    "pd.DataFrame(results, columns=['id', 'value']).to_csv('qq.csv', index=False)"
   ]
  },
  {
   "cell_type": "code",
   "execution_count": 39,
   "metadata": {},
   "outputs": [
    {
     "data": {
      "text/html": [
       "<div>\n",
       "<style scoped>\n",
       "    .dataframe tbody tr th:only-of-type {\n",
       "        vertical-align: middle;\n",
       "    }\n",
       "\n",
       "    .dataframe tbody tr th {\n",
       "        vertical-align: top;\n",
       "    }\n",
       "\n",
       "    .dataframe thead th {\n",
       "        text-align: right;\n",
       "    }\n",
       "</style>\n",
       "<table border=\"1\" class=\"dataframe\">\n",
       "  <thead>\n",
       "    <tr style=\"text-align: right;\">\n",
       "      <th></th>\n",
       "      <th>id</th>\n",
       "      <th>value</th>\n",
       "    </tr>\n",
       "  </thead>\n",
       "  <tbody>\n",
       "    <tr>\n",
       "      <th>0</th>\n",
       "      <td>id_0</td>\n",
       "      <td>38.6136887054</td>\n",
       "    </tr>\n",
       "    <tr>\n",
       "      <th>1</th>\n",
       "      <td>id_1</td>\n",
       "      <td>13.5123721071</td>\n",
       "    </tr>\n",
       "    <tr>\n",
       "      <th>2</th>\n",
       "      <td>id_10</td>\n",
       "      <td>25.0076230456</td>\n",
       "    </tr>\n",
       "    <tr>\n",
       "      <th>3</th>\n",
       "      <td>id_100</td>\n",
       "      <td>21.5473195785</td>\n",
       "    </tr>\n",
       "    <tr>\n",
       "      <th>4</th>\n",
       "      <td>id_101</td>\n",
       "      <td>46.9584557269</td>\n",
       "    </tr>\n",
       "    <tr>\n",
       "      <th>5</th>\n",
       "      <td>id_102</td>\n",
       "      <td>31.0234739534</td>\n",
       "    </tr>\n",
       "    <tr>\n",
       "      <th>6</th>\n",
       "      <td>id_103</td>\n",
       "      <td>33.1128511233</td>\n",
       "    </tr>\n",
       "    <tr>\n",
       "      <th>7</th>\n",
       "      <td>id_104</td>\n",
       "      <td>34.0440228785</td>\n",
       "    </tr>\n",
       "    <tr>\n",
       "      <th>8</th>\n",
       "      <td>id_105</td>\n",
       "      <td>30.4847358142</td>\n",
       "    </tr>\n",
       "    <tr>\n",
       "      <th>9</th>\n",
       "      <td>id_106</td>\n",
       "      <td>16.9139244358</td>\n",
       "    </tr>\n",
       "    <tr>\n",
       "      <th>10</th>\n",
       "      <td>id_107</td>\n",
       "      <td>38.1203495818</td>\n",
       "    </tr>\n",
       "    <tr>\n",
       "      <th>11</th>\n",
       "      <td>id_108</td>\n",
       "      <td>9.0425798398</td>\n",
       "    </tr>\n",
       "    <tr>\n",
       "      <th>12</th>\n",
       "      <td>id_109</td>\n",
       "      <td>71.7496859602</td>\n",
       "    </tr>\n",
       "    <tr>\n",
       "      <th>13</th>\n",
       "      <td>id_11</td>\n",
       "      <td>41.444532837</td>\n",
       "    </tr>\n",
       "    <tr>\n",
       "      <th>14</th>\n",
       "      <td>id_110</td>\n",
       "      <td>31.9836116426</td>\n",
       "    </tr>\n",
       "    <tr>\n",
       "      <th>15</th>\n",
       "      <td>id_111</td>\n",
       "      <td>68.681954223</td>\n",
       "    </tr>\n",
       "    <tr>\n",
       "      <th>16</th>\n",
       "      <td>id_112</td>\n",
       "      <td>20.5643171989</td>\n",
       "    </tr>\n",
       "    <tr>\n",
       "      <th>17</th>\n",
       "      <td>id_113</td>\n",
       "      <td>24.4068145578</td>\n",
       "    </tr>\n",
       "    <tr>\n",
       "      <th>18</th>\n",
       "      <td>id_114</td>\n",
       "      <td>24.3964214408</td>\n",
       "    </tr>\n",
       "    <tr>\n",
       "      <th>19</th>\n",
       "      <td>id_115</td>\n",
       "      <td>35.5599659494</td>\n",
       "    </tr>\n",
       "    <tr>\n",
       "      <th>20</th>\n",
       "      <td>id_116</td>\n",
       "      <td>36.5458139127</td>\n",
       "    </tr>\n",
       "    <tr>\n",
       "      <th>21</th>\n",
       "      <td>id_117</td>\n",
       "      <td>24.8940575852</td>\n",
       "    </tr>\n",
       "    <tr>\n",
       "      <th>22</th>\n",
       "      <td>id_118</td>\n",
       "      <td>27.6846005604</td>\n",
       "    </tr>\n",
       "    <tr>\n",
       "      <th>23</th>\n",
       "      <td>id_119</td>\n",
       "      <td>44.527952949</td>\n",
       "    </tr>\n",
       "    <tr>\n",
       "      <th>24</th>\n",
       "      <td>id_12</td>\n",
       "      <td>41.778566106</td>\n",
       "    </tr>\n",
       "    <tr>\n",
       "      <th>25</th>\n",
       "      <td>id_120</td>\n",
       "      <td>26.1382452658</td>\n",
       "    </tr>\n",
       "    <tr>\n",
       "      <th>26</th>\n",
       "      <td>id_121</td>\n",
       "      <td>37.3680138825</td>\n",
       "    </tr>\n",
       "    <tr>\n",
       "      <th>27</th>\n",
       "      <td>id_122</td>\n",
       "      <td>61.300551105</td>\n",
       "    </tr>\n",
       "    <tr>\n",
       "      <th>28</th>\n",
       "      <td>id_123</td>\n",
       "      <td>2.85680272259</td>\n",
       "    </tr>\n",
       "    <tr>\n",
       "      <th>29</th>\n",
       "      <td>id_124</td>\n",
       "      <td>35.91368796</td>\n",
       "    </tr>\n",
       "    <tr>\n",
       "      <th>...</th>\n",
       "      <td>...</td>\n",
       "      <td>...</td>\n",
       "    </tr>\n",
       "    <tr>\n",
       "      <th>230</th>\n",
       "      <td>id_72</td>\n",
       "      <td>32.4693153844</td>\n",
       "    </tr>\n",
       "    <tr>\n",
       "      <th>231</th>\n",
       "      <td>id_73</td>\n",
       "      <td>13.9147099348</td>\n",
       "    </tr>\n",
       "    <tr>\n",
       "      <th>232</th>\n",
       "      <td>id_74</td>\n",
       "      <td>45.7413571882</td>\n",
       "    </tr>\n",
       "    <tr>\n",
       "      <th>233</th>\n",
       "      <td>id_75</td>\n",
       "      <td>60.2926372955</td>\n",
       "    </tr>\n",
       "    <tr>\n",
       "      <th>234</th>\n",
       "      <td>id_76</td>\n",
       "      <td>3.14202792327</td>\n",
       "    </tr>\n",
       "    <tr>\n",
       "      <th>235</th>\n",
       "      <td>id_77</td>\n",
       "      <td>35.7955045266</td>\n",
       "    </tr>\n",
       "    <tr>\n",
       "      <th>236</th>\n",
       "      <td>id_78</td>\n",
       "      <td>75.1272913849</td>\n",
       "    </tr>\n",
       "    <tr>\n",
       "      <th>237</th>\n",
       "      <td>id_79</td>\n",
       "      <td>39.2791317502</td>\n",
       "    </tr>\n",
       "    <tr>\n",
       "      <th>238</th>\n",
       "      <td>id_8</td>\n",
       "      <td>40.0372311864</td>\n",
       "    </tr>\n",
       "    <tr>\n",
       "      <th>239</th>\n",
       "      <td>id_80</td>\n",
       "      <td>50.3393415034</td>\n",
       "    </tr>\n",
       "    <tr>\n",
       "      <th>240</th>\n",
       "      <td>id_81</td>\n",
       "      <td>19.0186729002</td>\n",
       "    </tr>\n",
       "    <tr>\n",
       "      <th>241</th>\n",
       "      <td>id_82</td>\n",
       "      <td>14.3815626377</td>\n",
       "    </tr>\n",
       "    <tr>\n",
       "      <th>242</th>\n",
       "      <td>id_83</td>\n",
       "      <td>33.4765314829</td>\n",
       "    </tr>\n",
       "    <tr>\n",
       "      <th>243</th>\n",
       "      <td>id_84</td>\n",
       "      <td>12.9733373138</td>\n",
       "    </tr>\n",
       "    <tr>\n",
       "      <th>244</th>\n",
       "      <td>id_85</td>\n",
       "      <td>10.2034220324</td>\n",
       "    </tr>\n",
       "    <tr>\n",
       "      <th>245</th>\n",
       "      <td>id_86</td>\n",
       "      <td>25.6773783902</td>\n",
       "    </tr>\n",
       "    <tr>\n",
       "      <th>246</th>\n",
       "      <td>id_87</td>\n",
       "      <td>87.4085948963</td>\n",
       "    </tr>\n",
       "    <tr>\n",
       "      <th>247</th>\n",
       "      <td>id_88</td>\n",
       "      <td>26.8891479601</td>\n",
       "    </tr>\n",
       "    <tr>\n",
       "      <th>248</th>\n",
       "      <td>id_89</td>\n",
       "      <td>48.1870931466</td>\n",
       "    </tr>\n",
       "    <tr>\n",
       "      <th>249</th>\n",
       "      <td>id_9</td>\n",
       "      <td>19.2288857057</td>\n",
       "    </tr>\n",
       "    <tr>\n",
       "      <th>250</th>\n",
       "      <td>id_90</td>\n",
       "      <td>20.8621725132</td>\n",
       "    </tr>\n",
       "    <tr>\n",
       "      <th>251</th>\n",
       "      <td>id_91</td>\n",
       "      <td>62.8655874911</td>\n",
       "    </tr>\n",
       "    <tr>\n",
       "      <th>252</th>\n",
       "      <td>id_92</td>\n",
       "      <td>58.289234254</td>\n",
       "    </tr>\n",
       "    <tr>\n",
       "      <th>253</th>\n",
       "      <td>id_93</td>\n",
       "      <td>6.78756019655</td>\n",
       "    </tr>\n",
       "    <tr>\n",
       "      <th>254</th>\n",
       "      <td>id_94</td>\n",
       "      <td>22.3353831856</td>\n",
       "    </tr>\n",
       "    <tr>\n",
       "      <th>255</th>\n",
       "      <td>id_95</td>\n",
       "      <td>30.0502223927</td>\n",
       "    </tr>\n",
       "    <tr>\n",
       "      <th>256</th>\n",
       "      <td>id_96</td>\n",
       "      <td>25.4858671025</td>\n",
       "    </tr>\n",
       "    <tr>\n",
       "      <th>257</th>\n",
       "      <td>id_97</td>\n",
       "      <td>-0.650950371466</td>\n",
       "    </tr>\n",
       "    <tr>\n",
       "      <th>258</th>\n",
       "      <td>id_98</td>\n",
       "      <td>17.5839313164</td>\n",
       "    </tr>\n",
       "    <tr>\n",
       "      <th>259</th>\n",
       "      <td>id_99</td>\n",
       "      <td>36.2705859194</td>\n",
       "    </tr>\n",
       "  </tbody>\n",
       "</table>\n",
       "<p>260 rows × 2 columns</p>\n",
       "</div>"
      ],
      "text/plain": [
       "         id            value\n",
       "0      id_0    38.6136887054\n",
       "1      id_1    13.5123721071\n",
       "2     id_10    25.0076230456\n",
       "3    id_100    21.5473195785\n",
       "4    id_101    46.9584557269\n",
       "5    id_102    31.0234739534\n",
       "6    id_103    33.1128511233\n",
       "7    id_104    34.0440228785\n",
       "8    id_105    30.4847358142\n",
       "9    id_106    16.9139244358\n",
       "10   id_107    38.1203495818\n",
       "11   id_108     9.0425798398\n",
       "12   id_109    71.7496859602\n",
       "13    id_11     41.444532837\n",
       "14   id_110    31.9836116426\n",
       "15   id_111     68.681954223\n",
       "16   id_112    20.5643171989\n",
       "17   id_113    24.4068145578\n",
       "18   id_114    24.3964214408\n",
       "19   id_115    35.5599659494\n",
       "20   id_116    36.5458139127\n",
       "21   id_117    24.8940575852\n",
       "22   id_118    27.6846005604\n",
       "23   id_119     44.527952949\n",
       "24    id_12     41.778566106\n",
       "25   id_120    26.1382452658\n",
       "26   id_121    37.3680138825\n",
       "27   id_122     61.300551105\n",
       "28   id_123    2.85680272259\n",
       "29   id_124      35.91368796\n",
       "..      ...              ...\n",
       "230   id_72    32.4693153844\n",
       "231   id_73    13.9147099348\n",
       "232   id_74    45.7413571882\n",
       "233   id_75    60.2926372955\n",
       "234   id_76    3.14202792327\n",
       "235   id_77    35.7955045266\n",
       "236   id_78    75.1272913849\n",
       "237   id_79    39.2791317502\n",
       "238    id_8    40.0372311864\n",
       "239   id_80    50.3393415034\n",
       "240   id_81    19.0186729002\n",
       "241   id_82    14.3815626377\n",
       "242   id_83    33.4765314829\n",
       "243   id_84    12.9733373138\n",
       "244   id_85    10.2034220324\n",
       "245   id_86    25.6773783902\n",
       "246   id_87    87.4085948963\n",
       "247   id_88    26.8891479601\n",
       "248   id_89    48.1870931466\n",
       "249    id_9    19.2288857057\n",
       "250   id_90    20.8621725132\n",
       "251   id_91    62.8655874911\n",
       "252   id_92     58.289234254\n",
       "253   id_93    6.78756019655\n",
       "254   id_94    22.3353831856\n",
       "255   id_95    30.0502223927\n",
       "256   id_96    25.4858671025\n",
       "257   id_97  -0.650950371466\n",
       "258   id_98    17.5839313164\n",
       "259   id_99    36.2705859194\n",
       "\n",
       "[260 rows x 2 columns]"
      ]
     },
     "execution_count": 39,
     "metadata": {},
     "output_type": "execute_result"
    }
   ],
   "source": [
    "pd.DataFrame(results, columns=['id', 'value'])"
   ]
  },
  {
   "cell_type": "code",
   "execution_count": null,
   "metadata": {},
   "outputs": [],
   "source": []
  },
  {
   "cell_type": "code",
   "execution_count": 32,
   "metadata": {},
   "outputs": [
    {
     "data": {
      "text/plain": [
       "(array([ 19.,  18.,  19.,  19.]), array([ 27.]))"
      ]
     },
     "execution_count": 32,
     "metadata": {},
     "output_type": "execute_result"
    }
   ],
   "source": [
    "X[1791], y[1791]"
   ]
  },
  {
   "cell_type": "code",
   "execution_count": 26,
   "metadata": {},
   "outputs": [],
   "source": [
    "sidx, sX, sy = shuffle_index(X, y)"
   ]
  },
  {
   "cell_type": "code",
   "execution_count": 27,
   "metadata": {},
   "outputs": [
    {
     "data": {
      "text/plain": [
       "array([5361, 1791, 1956, ..., 2098, 1542, 1771])"
      ]
     },
     "execution_count": 27,
     "metadata": {},
     "output_type": "execute_result"
    }
   ],
   "source": [
    "sidx"
   ]
  },
  {
   "cell_type": "code",
   "execution_count": 31,
   "metadata": {},
   "outputs": [
    {
     "data": {
      "text/plain": [
       "(array([ 19.,  18.,  19.,  19.]), array([ 27.]))"
      ]
     },
     "execution_count": 31,
     "metadata": {},
     "output_type": "execute_result"
    }
   ],
   "source": [
    "sX[1], sy[1]"
   ]
  },
  {
   "cell_type": "code",
   "execution_count": 34,
   "metadata": {},
   "outputs": [
    {
     "data": {
      "text/plain": [
       "(15, 4)"
      ]
     },
     "execution_count": 34,
     "metadata": {},
     "output_type": "execute_result"
    }
   ],
   "source": [
    "X[0:15].shape"
   ]
  },
  {
   "cell_type": "code",
   "execution_count": 35,
   "metadata": {},
   "outputs": [
    {
     "data": {
      "text/plain": [
       "(5697, 4)"
      ]
     },
     "execution_count": 35,
     "metadata": {},
     "output_type": "execute_result"
    }
   ],
   "source": [
    "X[15:].shape"
   ]
  },
  {
   "cell_type": "code",
   "execution_count": 36,
   "metadata": {},
   "outputs": [
    {
     "data": {
      "text/plain": [
       "(5712, 4)"
      ]
     },
     "execution_count": 36,
     "metadata": {},
     "output_type": "execute_result"
    }
   ],
   "source": [
    "X.shape"
   ]
  },
  {
   "cell_type": "code",
   "execution_count": null,
   "metadata": {},
   "outputs": [],
   "source": []
  }
 ],
 "metadata": {
  "kernelspec": {
   "display_name": "Python 3",
   "language": "python",
   "name": "python3"
  },
  "language_info": {
   "codemirror_mode": {
    "name": "ipython",
    "version": 3
   },
   "file_extension": ".py",
   "mimetype": "text/x-python",
   "name": "python",
   "nbconvert_exporter": "python",
   "pygments_lexer": "ipython3",
   "version": "3.6.4"
  }
 },
 "nbformat": 4,
 "nbformat_minor": 2
}
